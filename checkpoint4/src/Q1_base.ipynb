{
  "nbformat": 4,
  "nbformat_minor": 0,
  "metadata": {
    "colab": {
      "name": "Q1_higher.ipynb",
      "provenance": []
    },
    "kernelspec": {
      "name": "python3",
      "display_name": "Python 3"
    },
    "language_info": {
      "name": "python"
    }
  },
  "cells": [
    {
      "cell_type": "code",
      "metadata": {
        "colab": {
          "base_uri": "https://localhost:8080/"
        },
        "id": "ltqtPCY1xK8j",
        "outputId": "fbf91d48-5bfc-49e5-bfcd-b1e929df9522"
      },
      "source": [
        "# install java\n",
        "!apt-get install openjdk-8-jdk-headless -qq > /dev/null\n",
        "\n",
        "# install spark (change the version number if needed)\n",
        "!wget -q https://archive.apache.org/dist/spark/spark-3.2.0/spark-3.2.0-bin-hadoop3.2.tgz\n",
        "\n",
        "# unzip the spark file to the current folder\n",
        "!tar xf spark-3.2.0-bin-hadoop3.2.tgz\n",
        "\n",
        "# set your spark folder to your system path environment. \n",
        "import os\n",
        "os.environ[\"JAVA_HOME\"] = \"/usr/lib/jvm/java-8-openjdk-amd64\"\n",
        "os.environ[\"SPARK_HOME\"] = \"/content/spark-3.2.0-bin-hadoop3.2\"\n",
        "\n",
        "# install findspark using pip\n",
        "!pip install -q findspark\n",
        "\n",
        "# install pyspark\n",
        "!pip3 install pyspark==3.2.0\n",
        "\n",
        "# install graphframes\n",
        "!pip3 install graphframes"
      ],
      "execution_count": 1,
      "outputs": [
        {
          "output_type": "stream",
          "name": "stdout",
          "text": [
            "Collecting pyspark==3.2.0\n",
            "  Downloading pyspark-3.2.0.tar.gz (281.3 MB)\n",
            "\u001b[K     |████████████████████████████████| 281.3 MB 34 kB/s \n",
            "\u001b[?25hCollecting py4j==0.10.9.2\n",
            "  Downloading py4j-0.10.9.2-py2.py3-none-any.whl (198 kB)\n",
            "\u001b[K     |████████████████████████████████| 198 kB 52.8 MB/s \n",
            "\u001b[?25hBuilding wheels for collected packages: pyspark\n",
            "  Building wheel for pyspark (setup.py) ... \u001b[?25l\u001b[?25hdone\n",
            "  Created wheel for pyspark: filename=pyspark-3.2.0-py2.py3-none-any.whl size=281805912 sha256=17294dfef5f173cfdf8ea5b7e947dc1fd753fc73413c226f76333dec7f2f4ceb\n",
            "  Stored in directory: /root/.cache/pip/wheels/0b/de/d2/9be5d59d7331c6c2a7c1b6d1a4f463ce107332b1ecd4e80718\n",
            "Successfully built pyspark\n",
            "Installing collected packages: py4j, pyspark\n",
            "Successfully installed py4j-0.10.9.2 pyspark-3.2.0\n",
            "Collecting graphframes\n",
            "  Downloading graphframes-0.6-py2.py3-none-any.whl (18 kB)\n",
            "Collecting nose\n",
            "  Downloading nose-1.3.7-py3-none-any.whl (154 kB)\n",
            "\u001b[K     |████████████████████████████████| 154 kB 4.3 MB/s \n",
            "\u001b[?25hRequirement already satisfied: numpy in /usr/local/lib/python3.7/dist-packages (from graphframes) (1.19.5)\n",
            "Installing collected packages: nose, graphframes\n",
            "Successfully installed graphframes-0.6 nose-1.3.7\n"
          ]
        }
      ]
    },
    {
      "cell_type": "code",
      "metadata": {
        "colab": {
          "base_uri": "https://localhost:8080/"
        },
        "id": "EcL7r9W2xY9J",
        "outputId": "a8f94fc3-ae50-4709-bc4d-bc4e5dd7a081"
      },
      "source": [
        "!cp -v /content/graphframes-0.8.2-spark3.2-s_2.12.jar $SPARK_HOME/jars/"
      ],
      "execution_count": 20,
      "outputs": [
        {
          "output_type": "stream",
          "name": "stdout",
          "text": [
            "'/content/graphframes-0.8.2-spark3.2-s_2.12.jar' -> '/content/spark-3.2.0-bin-hadoop3.2/jars/graphframes-0.8.2-spark3.2-s_2.12.jar'\n"
          ]
        }
      ]
    },
    {
      "cell_type": "code",
      "metadata": {
        "id": "PoDy9fjdzJFO"
      },
      "source": [
        "#import the packages\n",
        "from pyspark import *\n",
        "from pyspark.sql import *\n",
        "from graphframes import *\n",
        "import findspark\n",
        "import pandas as pd\n",
        "\n",
        "findspark.init()\n",
        "\n",
        "# Start a Spark session\n",
        "spark = SparkSession.builder.master(\"local[*]\").getOrCreate()"
      ],
      "execution_count": 21,
      "outputs": []
    },
    {
      "cell_type": "code",
      "metadata": {
        "id": "7p59PWRlxctO"
      },
      "source": [
        "import psycopg2"
      ],
      "execution_count": 22,
      "outputs": []
    },
    {
      "cell_type": "code",
      "metadata": {
        "id": "hcZLS3JaxfAn"
      },
      "source": [
        "# access the postgresql server\n",
        "conn = psycopg2.connect(\n",
        "    host=\"codd04.research.northwestern.edu\",\n",
        "    port = \"5433\",\n",
        "    database=\"postgres\",\n",
        "    user=\"cpdbstudent\",\n",
        "    password=\"DataSci4AI\")"
      ],
      "execution_count": 23,
      "outputs": []
    },
    {
      "cell_type": "code",
      "metadata": {
        "id": "B95-t68Rxft8"
      },
      "source": [
        "cursor = conn.cursor()"
      ],
      "execution_count": 26,
      "outputs": []
    },
    {
      "cell_type": "code",
      "metadata": {
        "id": "GSOsRx_kxiUG"
      },
      "source": [
        "edges_query = '''--Co-accusals for officers with DAM allegations earning above average salary\n",
        "DROP TABLE IF EXISTS da_category_ids;\n",
        "CREATE TEMP TABLE da_category_ids AS (\n",
        "    SELECT id\n",
        "    FROM data_allegationcategory\n",
        "    WHERE data_allegationcategory.category = 'Drug / Alcohol Abuse' OR data_allegationcategory.category = 'Medical' or allegation_name LIKE 'Medical Roll%'\n",
        "    OR data_allegationcategory.category_code IN ('08J', '024', '003', '003A', '003B', '003C', '003D', '003E'));\n",
        "\n",
        "DROP TABLE IF EXISTS da_cohort;\n",
        "CREATE TEMP TABLE da_cohort AS (\n",
        "    SELECT DISTINCT officer_id\n",
        "    FROM data_officerallegation\n",
        "    WHERE allegation_category_id IN (SELECT * from da_category_ids));\n",
        "\n",
        "DROP TABLE IF EXISTS class_example;\n",
        "CREATE TEMP TABLE class_example AS (\n",
        "SELECT da1.officer_id src, da2.officer_id dst, COUNT(DISTINCT da1.allegation_id) relationship\n",
        "FROM data_officerallegation da1\n",
        "JOIN data_officerallegation da2 ON da1.allegation_id = da2.allegation_id AND da1.officer_id < da2.officer_id\n",
        "GROUP BY da1.officer_id, da2.officer_id ORDER BY count(*) DESC);\n",
        "\n",
        "DROP TABLE IF EXISTS edgesq1;\n",
        "CREATE TEMP TABLE edgesq1 AS (\n",
        "SELECT src,dst,relationship FROM class_example\n",
        "JOIN da_cohort ON da_cohort.officer_id = class_example.src);\n",
        "\n",
        "select * from edgesq1\n",
        "'''"
      ],
      "execution_count": 27,
      "outputs": []
    },
    {
      "cell_type": "code",
      "metadata": {
        "id": "RueP_lmBxlxs"
      },
      "source": [
        "nodes_query = '''\n",
        "--Co-accusals for officers with DAM allegations earning above average salary\n",
        "DROP TABLE IF EXISTS da_category_ids;\n",
        "CREATE TEMP TABLE da_category_ids AS (\n",
        "    SELECT id\n",
        "    FROM data_allegationcategory\n",
        "    WHERE data_allegationcategory.category = 'Drug / Alcohol Abuse' OR data_allegationcategory.category = 'Medical' or allegation_name LIKE 'Medical Roll%'\n",
        "    OR data_allegationcategory.category_code IN ('08J', '024', '003', '003A', '003B', '003C', '003D', '003E'));\n",
        "\n",
        "DROP TABLE IF EXISTS da_cohort;\n",
        "CREATE TEMP TABLE da_cohort AS (\n",
        "    SELECT DISTINCT officer_id\n",
        "    FROM data_officerallegation\n",
        "    WHERE allegation_category_id IN (SELECT * from da_category_ids));\n",
        "\n",
        "DROP TABLE IF EXISTS class_example;\n",
        "CREATE TEMP TABLE class_example AS (\n",
        "SELECT da1.officer_id src, da2.officer_id dst, COUNT(DISTINCT da1.allegation_id) relationship\n",
        "FROM data_officerallegation da1\n",
        "JOIN data_officerallegation da2 ON da1.allegation_id = da2.allegation_id AND da1.officer_id < da2.officer_id\n",
        "GROUP BY da1.officer_id, da2.officer_id ORDER BY count(*) DESC);\n",
        "\n",
        "DROP TABLE IF EXISTS edgesq1;\n",
        "CREATE TEMP TABLE edgesq1 AS (\n",
        "SELECT src,dst,relationship FROM class_example\n",
        "JOIN da_cohort ON da_cohort.officer_id = class_example.src);\n",
        "\n",
        "SELECT  id, first_name || ' ' || last_name officer_name, allegation_count FROM data_officer\n",
        "where id in (select src from edgesq1) or id in (select dst from edgesq1);\n",
        "\n",
        "\n",
        "'''"
      ],
      "execution_count": 16,
      "outputs": []
    },
    {
      "cell_type": "code",
      "metadata": {
        "id": "3cPFWTgvyW4c"
      },
      "source": [
        "import pandas as pd"
      ],
      "execution_count": 28,
      "outputs": []
    },
    {
      "cell_type": "code",
      "metadata": {
        "colab": {
          "base_uri": "https://localhost:8080/"
        },
        "id": "RS2ICKRFyNw1",
        "outputId": "63d4f401-1ff2-46f9-8600-bdbbade13bfa"
      },
      "source": [
        "cursor.execute(edges_query)\n",
        "edges = cursor.fetchall()\n",
        "print(\"shape is: \" + str(len(edges))) # 17465\n",
        "\n",
        "df_edges = pd.DataFrame(edges)\n",
        "colnames = [desc[0] for desc in cursor.description]\n",
        "df_edges.columns = colnames\n",
        "\n",
        "print(df_edges)"
      ],
      "execution_count": 29,
      "outputs": [
        {
          "output_type": "stream",
          "name": "stdout",
          "text": [
            "shape is: 22018\n",
            "         src    dst  relationship\n",
            "0          9  12641             1\n",
            "1         17  26456             2\n",
            "2         17  10656             2\n",
            "3         17  22523             1\n",
            "4         17  20246             1\n",
            "...      ...    ...           ...\n",
            "22013  32346  32351             2\n",
            "22014  32346  32377             3\n",
            "22015  32397  32419             1\n",
            "22016  32397  32406             1\n",
            "22017  32527  33722             2\n",
            "\n",
            "[22018 rows x 3 columns]\n"
          ]
        }
      ]
    },
    {
      "cell_type": "code",
      "metadata": {
        "colab": {
          "base_uri": "https://localhost:8080/"
        },
        "id": "9OXB2t7EzUD1",
        "outputId": "3aee57ee-8ed5-4f54-974c-4a9e56a33786"
      },
      "source": [
        "cursor.execute(nodes_query)\n",
        "nodes = cursor.fetchall()\n",
        "print(\"shape is: \" + str(len(nodes))) # 17465\n",
        "\n",
        "df_nodes = pd.DataFrame(nodes)\n",
        "colnames = [desc[0] for desc in cursor.description]\n",
        "df_nodes.columns = colnames\n",
        "\n",
        "print(df_nodes)"
      ],
      "execution_count": 30,
      "outputs": [
        {
          "output_type": "stream",
          "name": "stdout",
          "text": [
            "shape is: 8167\n",
            "         id       officer_name  allegation_count\n",
            "0     32312       Randall Ryan                10\n",
            "1     32358        Kevin Stoll                24\n",
            "2     33700        Terra Ester                 4\n",
            "3     32461     Albert Krueger                 9\n",
            "4     33051       Doris Haynes                11\n",
            "...     ...                ...               ...\n",
            "8162  32398     Thomas Waldera                 8\n",
            "8163  32098  Christoph Kennedy                 8\n",
            "8164  25962     Joseph Seinitz                31\n",
            "8165  25732     Andrew Schoeff                24\n",
            "8166  27439  Robert Stegmiller                62\n",
            "\n",
            "[8167 rows x 3 columns]\n"
          ]
        }
      ]
    },
    {
      "cell_type": "code",
      "metadata": {
        "id": "R8emHtixy9WL"
      },
      "source": [
        "edges_ = spark.createDataFrame(df_edges)"
      ],
      "execution_count": 31,
      "outputs": []
    },
    {
      "cell_type": "code",
      "metadata": {
        "id": "nJWl6Qdby_gt"
      },
      "source": [
        "nodes = spark.createDataFrame(df_nodes)"
      ],
      "execution_count": 32,
      "outputs": []
    },
    {
      "cell_type": "code",
      "metadata": {
        "id": "gr1MqtFmzmoI"
      },
      "source": [
        "cpdb = GraphFrame(nodes, edges_)"
      ],
      "execution_count": 33,
      "outputs": []
    },
    {
      "cell_type": "code",
      "metadata": {
        "id": "ECa_nNmnzoZq",
        "colab": {
          "base_uri": "https://localhost:8080/"
        },
        "outputId": "dccd274f-7f5d-449d-f5f0-a6460c0bde60"
      },
      "source": [
        "cpdb.vertices.show()"
      ],
      "execution_count": 34,
      "outputs": [
        {
          "output_type": "stream",
          "name": "stdout",
          "text": [
            "+-----+--------------------+----------------+\n",
            "|   id|        officer_name|allegation_count|\n",
            "+-----+--------------------+----------------+\n",
            "|32312|        Randall Ryan|              10|\n",
            "|32358|         Kevin Stoll|              24|\n",
            "|33700|         Terra Ester|               4|\n",
            "|32461|      Albert Krueger|               9|\n",
            "|33051|        Doris Haynes|              11|\n",
            "|32536|       Edmund Leracz|               4|\n",
            "|25219|      Linda Salustro|               8|\n",
            "| 3613|       Patricia Cain|               4|\n",
            "|31793|      Adam Aleszczyk|               3|\n",
            "|32527|         Vance Henry|               6|\n",
            "|32005|          Tony Green|              11|\n",
            "|32188|     Elmore Metcalfe|              27|\n",
            "|32308|        Giselle Ruiz|               2|\n",
            "| 2735|Charles Breckenridge|              10|\n",
            "|17891|      Billy Mc Bride|               1|\n",
            "|13065|       James Jackson|              22|\n",
            "|32549|  Michael Williamson|               1|\n",
            "|33056|     Luevorne Brooks|              10|\n",
            "|28428|       Robert Thomas|               5|\n",
            "|32529|          John Smith|              17|\n",
            "+-----+--------------------+----------------+\n",
            "only showing top 20 rows\n",
            "\n"
          ]
        }
      ]
    },
    {
      "cell_type": "code",
      "metadata": {
        "id": "Y2GxzF5Ezwih",
        "colab": {
          "base_uri": "https://localhost:8080/"
        },
        "outputId": "1dba89b9-ba02-4d50-d2dc-95e9027ee732"
      },
      "source": [
        "cpdb.edges.show()"
      ],
      "execution_count": 35,
      "outputs": [
        {
          "output_type": "stream",
          "name": "stdout",
          "text": [
            "+---+-----+------------+\n",
            "|src|  dst|relationship|\n",
            "+---+-----+------------+\n",
            "|  9|12641|           1|\n",
            "| 17|26456|           2|\n",
            "| 17|10656|           2|\n",
            "| 17|22523|           1|\n",
            "| 17|20246|           1|\n",
            "| 17|15351|           1|\n",
            "| 17|12521|           1|\n",
            "| 17| 9373|           1|\n",
            "| 17| 6885|           1|\n",
            "| 17| 4494|           1|\n",
            "| 17|32102|           1|\n",
            "| 17|28925|           1|\n",
            "| 17|27976|           1|\n",
            "| 54|27802|           1|\n",
            "| 54|29189|           1|\n",
            "| 54|30398|           1|\n",
            "| 54|31550|           1|\n",
            "| 54|31756|           1|\n",
            "| 54| 4168|           1|\n",
            "| 54|11252|           1|\n",
            "+---+-----+------------+\n",
            "only showing top 20 rows\n",
            "\n"
          ]
        }
      ]
    },
    {
      "cell_type": "code",
      "metadata": {
        "id": "W1pU20x9zzAU",
        "colab": {
          "base_uri": "https://localhost:8080/"
        },
        "outputId": "de743699-c058-4602-dc66-b96dce3f1c24"
      },
      "source": [
        "cpdb.vertices.sort(['id'],ascending=True).show()"
      ],
      "execution_count": 36,
      "outputs": [
        {
          "output_type": "stream",
          "name": "stdout",
          "text": [
            "+---+------------------+----------------+\n",
            "| id|      officer_name|allegation_count|\n",
            "+---+------------------+----------------+\n",
            "|  9|     Michael Abbey|               3|\n",
            "| 17|   Moulay Abdullah|              25|\n",
            "| 54|      Jeff Acevedo|              13|\n",
            "| 59|    Edward Acevedo|              14|\n",
            "|117|       James Adams|              18|\n",
            "|156|      John Adreani|              32|\n",
            "|160|     Mahir Affaneh|              12|\n",
            "|197|   Joseph Aguinaga|              18|\n",
            "|198|     John Aguinaga|              21|\n",
            "|200|  Richard Aguinaga|              16|\n",
            "|223| Deborah Ahmad Bey|               9|\n",
            "|237|     Arlene Ajello|              19|\n",
            "|241|    Willie Akerson|              29|\n",
            "|325| Darlene Alexander|               7|\n",
            "|335|    John Alexander|               1|\n",
            "|361|        John Allan|              21|\n",
            "|364|Michael Allegretti|              28|\n",
            "|368|     Valerie Allen|               8|\n",
            "|381|      Sherry Allen|               1|\n",
            "|396|     Michael Allen|               7|\n",
            "+---+------------------+----------------+\n",
            "only showing top 20 rows\n",
            "\n"
          ]
        }
      ]
    },
    {
      "cell_type": "code",
      "metadata": {
        "id": "ZrwTM-u0z1nR",
        "colab": {
          "base_uri": "https://localhost:8080/"
        },
        "outputId": "2c3c0ba7-f6bd-41f6-d14f-ffcbeaa735dd"
      },
      "source": [
        "tc_cpdb = cpdb.triangleCount()\n",
        "tc_cpdb.select(\"id\", \"count\").show()"
      ],
      "execution_count": 37,
      "outputs": [
        {
          "output_type": "stream",
          "name": "stdout",
          "text": [
            "+-----+-----+\n",
            "|   id|count|\n",
            "+-----+-----+\n",
            "|32188|    7|\n",
            "|32529|    1|\n",
            "|32536|    0|\n",
            "|32308|    1|\n",
            "|32005|    0|\n",
            "|33056|    3|\n",
            "|31793|    0|\n",
            "|32527|    0|\n",
            "|17891|   78|\n",
            "|13065|    0|\n",
            "| 2735|   10|\n",
            "|28428|    0|\n",
            "|32549|    0|\n",
            "|33049|   17|\n",
            "|32461|    0|\n",
            "|25219|    0|\n",
            "|32312|    0|\n",
            "|32358|    0|\n",
            "| 3613|    0|\n",
            "|33051|    0|\n",
            "+-----+-----+\n",
            "only showing top 20 rows\n",
            "\n"
          ]
        }
      ]
    },
    {
      "cell_type": "code",
      "metadata": {
        "id": "CTcT_BSXz4Nq",
        "colab": {
          "base_uri": "https://localhost:8080/"
        },
        "outputId": "7dffaf1e-4ecd-4eec-e957-76c1c3f51b89"
      },
      "source": [
        "pr_cpdb = cpdb.pageRank(resetProbability=0.15, tol=0.01)\n",
        "#look at the pagerank score for every vertex\n",
        "pr_cpdb.vertices.orderBy('pagerank', ascending=False).show()\n",
        "pr_cpdb.edges.show()"
      ],
      "execution_count": 38,
      "outputs": [
        {
          "output_type": "stream",
          "name": "stdout",
          "text": [
            "+-----+-----------------+----------------+------------------+\n",
            "|   id|     officer_name|allegation_count|          pagerank|\n",
            "+-----+-----------------+----------------+------------------+\n",
            "|29955|     Carl Walston|               1| 8.530227585167191|\n",
            "|23005|       Paul Price|               1|4.6109338298201035|\n",
            "|32032|    Brian Hawkins|              49| 4.524007245073958|\n",
            "|32405|     Henry Walton|              16| 3.426605063309718|\n",
            "|29035|     Edward Tures|              14| 3.315799479059275|\n",
            "|32198|  Raphael Mitchem|              52|3.2925073407632053|\n",
            "|22480|   Edwin Phillips|               1| 3.251604314428484|\n",
            "|31265|      Lee Wozniak|              12| 3.220324514177345|\n",
            "|31906|      James Davis|              76|2.8454226202732715|\n",
            "|31563|Lawrence Zaragoza|              13| 2.740164442446008|\n",
            "|31115|  Andrew Wojnicki|               3|2.6051990192559016|\n",
            "|31497|        John Zago|               7|2.5702751555354864|\n",
            "|19154|    Raymond Mills|               1| 2.536867354149699|\n",
            "|30603|    Mark Wiktorek|              33| 2.525529612238163|\n",
            "|32314|     Jose Salazar|              43| 2.523248402178846|\n",
            "|29088|     Calvin Tyler|              15|2.4981770798148877|\n",
            "|31464|    Michael Ytsen|              18|2.4358913199289294|\n",
            "|31027|      Sharon Wise|              15| 2.415122266347129|\n",
            "|23375|    Mario Ramirez|              44|2.4006778961888795|\n",
            "|30300|   Thomas Weigand|               6| 2.353033383487683|\n",
            "+-----+-----------------+----------------+------------------+\n",
            "only showing top 20 rows\n",
            "\n",
            "+----+-----+------------+--------------------+\n",
            "| src|  dst|relationship|              weight|\n",
            "+----+-----+------------+--------------------+\n",
            "| 198|10269|           1|0.038461538461538464|\n",
            "| 200| 6346|           1| 0.00411522633744856|\n",
            "| 200|29882|           1| 0.00411522633744856|\n",
            "| 597|16746|           1|0.006024096385542169|\n",
            "| 597|29782|           1|0.006024096385542169|\n",
            "| 882| 8426|           1|0.041666666666666664|\n",
            "| 927|30211|           1|0.006172839506172839|\n",
            "|1111| 1211|           1|0.034482758620689655|\n",
            "|1256|10250|           1| 0.03571428571428571|\n",
            "|1278|11767|           1| 0.05555555555555555|\n",
            "|1507|22466|           2|                0.25|\n",
            "|1649|26121|           1|0.005952380952380952|\n",
            "|1907|24013|           1|0.004926108374384...|\n",
            "|2269|32206|           2|0.041666666666666664|\n",
            "|2802|25890|           1|0.047619047619047616|\n",
            "|2809|19969|           1|0.013157894736842105|\n",
            "|3026|23036|           1|0.023809523809523808|\n",
            "|3337|31966|           4|0.041666666666666664|\n",
            "|3520|25740|           1|0.027777777777777776|\n",
            "|4226|21364|           2|0.014084507042253521|\n",
            "+----+-----+------------+--------------------+\n",
            "only showing top 20 rows\n",
            "\n"
          ]
        }
      ]
    }
  ]
}