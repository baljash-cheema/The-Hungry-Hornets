{
  "nbformat": 4,
  "nbformat_minor": 0,
  "metadata": {
    "colab": {
      "name": "Q1_higher.ipynb",
      "provenance": []
    },
    "kernelspec": {
      "name": "python3",
      "display_name": "Python 3"
    },
    "language_info": {
      "name": "python"
    }
  },
  "cells": [
    {
      "cell_type": "code",
      "metadata": {
        "colab": {
          "base_uri": "https://localhost:8080/"
        },
        "id": "ltqtPCY1xK8j",
        "outputId": "39e1018e-7f3c-4eb1-ba8c-71d1389313e1"
      },
      "source": [
        "# install java\n",
        "!apt-get install openjdk-8-jdk-headless -qq > /dev/null\n",
        "\n",
        "# install spark (change the version number if needed)\n",
        "!wget -q https://archive.apache.org/dist/spark/spark-3.2.0/spark-3.2.0-bin-hadoop3.2.tgz\n",
        "\n",
        "# unzip the spark file to the current folder\n",
        "!tar xf spark-3.2.0-bin-hadoop3.2.tgz\n",
        "\n",
        "# set your spark folder to your system path environment. \n",
        "import os\n",
        "os.environ[\"JAVA_HOME\"] = \"/usr/lib/jvm/java-8-openjdk-amd64\"\n",
        "os.environ[\"SPARK_HOME\"] = \"/content/spark-3.2.0-bin-hadoop3.2\"\n",
        "\n",
        "# install findspark using pip\n",
        "!pip install -q findspark\n",
        "\n",
        "# install pyspark\n",
        "!pip3 install pyspark==3.2.0\n",
        "\n",
        "# install graphframes\n",
        "!pip3 install graphframes"
      ],
      "execution_count": 1,
      "outputs": [
        {
          "output_type": "stream",
          "name": "stdout",
          "text": [
            "Collecting pyspark==3.2.0\n",
            "  Downloading pyspark-3.2.0.tar.gz (281.3 MB)\n",
            "\u001b[K     |████████████████████████████████| 281.3 MB 28 kB/s \n",
            "\u001b[?25hCollecting py4j==0.10.9.2\n",
            "  Downloading py4j-0.10.9.2-py2.py3-none-any.whl (198 kB)\n",
            "\u001b[K     |████████████████████████████████| 198 kB 48.6 MB/s \n",
            "\u001b[?25hBuilding wheels for collected packages: pyspark\n",
            "  Building wheel for pyspark (setup.py) ... \u001b[?25l\u001b[?25hdone\n",
            "  Created wheel for pyspark: filename=pyspark-3.2.0-py2.py3-none-any.whl size=281805912 sha256=ea6b892faf62bab84dd646bc1a6b3a153b8dea1f950e326b623b1e5793b9912a\n",
            "  Stored in directory: /root/.cache/pip/wheels/0b/de/d2/9be5d59d7331c6c2a7c1b6d1a4f463ce107332b1ecd4e80718\n",
            "Successfully built pyspark\n",
            "Installing collected packages: py4j, pyspark\n",
            "Successfully installed py4j-0.10.9.2 pyspark-3.2.0\n",
            "Collecting graphframes\n",
            "  Downloading graphframes-0.6-py2.py3-none-any.whl (18 kB)\n",
            "Requirement already satisfied: numpy in /usr/local/lib/python3.7/dist-packages (from graphframes) (1.19.5)\n",
            "Collecting nose\n",
            "  Downloading nose-1.3.7-py3-none-any.whl (154 kB)\n",
            "\u001b[K     |████████████████████████████████| 154 kB 8.7 MB/s \n",
            "\u001b[?25hInstalling collected packages: nose, graphframes\n",
            "Successfully installed graphframes-0.6 nose-1.3.7\n"
          ]
        }
      ]
    },
    {
      "cell_type": "code",
      "metadata": {
        "colab": {
          "base_uri": "https://localhost:8080/"
        },
        "id": "EcL7r9W2xY9J",
        "outputId": "281931f8-9c52-4996-fcd3-80d7beeb8a49"
      },
      "source": [
        "!cp -v /content/graphframes-0.8.2-spark3.2-s_2.12.jar $SPARK_HOME/jars/"
      ],
      "execution_count": 2,
      "outputs": [
        {
          "output_type": "stream",
          "name": "stdout",
          "text": [
            "'/content/graphframes-0.8.2-spark3.2-s_2.12.jar' -> '/content/spark-3.2.0-bin-hadoop3.2/jars/graphframes-0.8.2-spark3.2-s_2.12.jar'\n"
          ]
        }
      ]
    },
    {
      "cell_type": "code",
      "metadata": {
        "id": "PoDy9fjdzJFO"
      },
      "source": [
        "#import the packages\n",
        "from pyspark import *\n",
        "from pyspark.sql import *\n",
        "from graphframes import *\n",
        "import findspark\n",
        "import pandas as pd\n",
        "\n",
        "findspark.init()\n",
        "\n",
        "# Start a Spark session\n",
        "spark = SparkSession.builder.master(\"local[*]\").getOrCreate()"
      ],
      "execution_count": 3,
      "outputs": []
    },
    {
      "cell_type": "code",
      "metadata": {
        "id": "7p59PWRlxctO",
        "colab": {
          "base_uri": "https://localhost:8080/"
        },
        "outputId": "b6f7b46b-f3c5-44ee-a07e-d9b77cc8b914"
      },
      "source": [
        "import psycopg2"
      ],
      "execution_count": 4,
      "outputs": [
        {
          "output_type": "stream",
          "name": "stderr",
          "text": [
            "/usr/local/lib/python3.7/dist-packages/psycopg2/__init__.py:144: UserWarning: The psycopg2 wheel package will be renamed from release 2.8; in order to keep installing from binary please use \"pip install psycopg2-binary\" instead. For details see: <http://initd.org/psycopg/docs/install.html#binary-install-from-pypi>.\n",
            "  \"\"\")\n"
          ]
        }
      ]
    },
    {
      "cell_type": "code",
      "metadata": {
        "id": "hcZLS3JaxfAn"
      },
      "source": [
        "# access the postgresql server\n",
        "conn = psycopg2.connect(\n",
        "    host=\"codd04.research.northwestern.edu\",\n",
        "    port = \"5433\",\n",
        "    database=\"postgres\",\n",
        "    user=\"cpdbstudent\",\n",
        "    password=\"DataSci4AI\")"
      ],
      "execution_count": 5,
      "outputs": []
    },
    {
      "cell_type": "code",
      "metadata": {
        "id": "B95-t68Rxft8"
      },
      "source": [
        "cursor = conn.cursor()"
      ],
      "execution_count": 6,
      "outputs": []
    },
    {
      "cell_type": "code",
      "metadata": {
        "id": "GSOsRx_kxiUG"
      },
      "source": [
        "edges_query = '''--Co-accusals for officers with DAM allegations earning above average salary\n",
        "DROP TABLE IF EXISTS da_category_ids;\n",
        "CREATE TEMP TABLE da_category_ids AS (\n",
        "    SELECT id\n",
        "    FROM data_allegationcategory\n",
        "    WHERE data_allegationcategory.category = 'Drug / Alcohol Abuse' OR data_allegationcategory.category = 'Medical' or allegation_name LIKE 'Medical Roll%'\n",
        "    OR data_allegationcategory.category_code IN ('08J', '024', '003', '003A', '003B', '003C', '003D', '003E'));\n",
        "\n",
        "DROP TABLE IF EXISTS da_cohort;\n",
        "CREATE TEMP TABLE da_cohort AS (\n",
        "    SELECT DISTINCT officer_id\n",
        "    FROM data_officerallegation\n",
        "    WHERE allegation_category_id IN (SELECT * from da_category_ids));\n",
        "\n",
        "DELETE FROM da_cohort c\n",
        "USING data_salary s WHERE s.officer_id = c.officer_id\n",
        "AND s.salary < (SELECT AVG(salary) FROM data_salary);\n",
        "\n",
        "DROP TABLE IF EXISTS class_example;\n",
        "CREATE TEMP TABLE class_example AS (\n",
        "SELECT da1.officer_id src, da2.officer_id dst, COUNT(DISTINCT da1.allegation_id) relationship\n",
        "FROM data_officerallegation da1\n",
        "JOIN data_officerallegation da2 ON da1.allegation_id = da2.allegation_id AND da1.officer_id < da2.officer_id\n",
        "GROUP BY da1.officer_id, da2.officer_id ORDER BY count(*) DESC);\n",
        "\n",
        "DROP TABLE IF EXISTS edgesq1;\n",
        "CREATE TEMP TABLE edgesq1 AS (\n",
        "SELECT src,dst,relationship FROM class_example\n",
        "JOIN da_cohort ON da_cohort.officer_id = class_example.src);\n",
        "\n",
        "select * from edgesq1\n",
        "'''"
      ],
      "execution_count": 7,
      "outputs": []
    },
    {
      "cell_type": "code",
      "metadata": {
        "id": "RueP_lmBxlxs"
      },
      "source": [
        "nodes_query = '''\n",
        "--Co-accusals for officers with DAM allegations earning above average salary\n",
        "DROP TABLE IF EXISTS da_category_ids;\n",
        "CREATE TEMP TABLE da_category_ids AS (\n",
        "    SELECT id\n",
        "    FROM data_allegationcategory\n",
        "    WHERE data_allegationcategory.category = 'Drug / Alcohol Abuse' OR data_allegationcategory.category = 'Medical' or allegation_name LIKE 'Medical Roll%'\n",
        "    OR data_allegationcategory.category_code IN ('08J', '024', '003', '003A', '003B', '003C', '003D', '003E'));\n",
        "\n",
        "DROP TABLE IF EXISTS da_cohort;\n",
        "CREATE TEMP TABLE da_cohort AS (\n",
        "    SELECT DISTINCT officer_id\n",
        "    FROM data_officerallegation\n",
        "    WHERE allegation_category_id IN (SELECT * from da_category_ids));\n",
        "\n",
        "DELETE FROM da_cohort c\n",
        "USING data_salary s WHERE s.officer_id = c.officer_id\n",
        "AND s.salary < (SELECT AVG(salary) FROM data_salary);\n",
        "\n",
        "DROP TABLE IF EXISTS class_example;\n",
        "CREATE TEMP TABLE class_example AS (\n",
        "SELECT da1.officer_id src, da2.officer_id dst, COUNT(DISTINCT da1.allegation_id) relationship\n",
        "FROM data_officerallegation da1\n",
        "JOIN data_officerallegation da2 ON da1.allegation_id = da2.allegation_id AND da1.officer_id < da2.officer_id\n",
        "GROUP BY da1.officer_id, da2.officer_id ORDER BY count(*) DESC);\n",
        "\n",
        "DROP TABLE IF EXISTS edgesq1;\n",
        "CREATE TEMP TABLE edgesq1 AS (\n",
        "SELECT src,dst,relationship FROM class_example\n",
        "JOIN da_cohort ON da_cohort.officer_id = class_example.src);\n",
        "\n",
        "DROP TABLE IF EXISTS withoutRelation;\n",
        "CREATE TEMP TABLE withoutRelation AS (\n",
        "select id,first_name || ' ' || last_name officer_name from data_officer where id in\n",
        "(select src from edgesq1) and id in (select dst from edgesq1));\n",
        "\n",
        "select withoutRelation.id,withoutRelation.officer_name,data_salary.salary from withoutRelation\n",
        "join data_salary on withoutRelation.id=data_salary.id;\n",
        "\n",
        "\n",
        "\n",
        "\n",
        "\n",
        "'''"
      ],
      "execution_count": 8,
      "outputs": []
    },
    {
      "cell_type": "code",
      "metadata": {
        "id": "3cPFWTgvyW4c"
      },
      "source": [
        "import pandas as pd"
      ],
      "execution_count": 9,
      "outputs": []
    },
    {
      "cell_type": "code",
      "metadata": {
        "colab": {
          "base_uri": "https://localhost:8080/"
        },
        "id": "RS2ICKRFyNw1",
        "outputId": "c2676f10-5902-4c3f-899d-361808ad536b"
      },
      "source": [
        "cursor.execute(edges_query)\n",
        "edges = cursor.fetchall()\n",
        "print(\"shape is: \" + str(len(edges))) # 17465\n",
        "\n",
        "df_edges = pd.DataFrame(edges)\n",
        "colnames = [desc[0] for desc in cursor.description]\n",
        "df_edges.columns = colnames\n",
        "\n",
        "print(df_edges)"
      ],
      "execution_count": 10,
      "outputs": [
        {
          "output_type": "stream",
          "name": "stdout",
          "text": [
            "shape is: 6288\n",
            "        src    dst  relationship\n",
            "0         9  12641             1\n",
            "1       200   3133             1\n",
            "2       200    241             1\n",
            "3       200    368             1\n",
            "4       200    381             1\n",
            "...     ...    ...           ...\n",
            "6283  30952  31341             1\n",
            "6284  30952  32074             1\n",
            "6285  31438  32405             1\n",
            "6286  31464  32032             1\n",
            "6287  32527  33722             2\n",
            "\n",
            "[6288 rows x 3 columns]\n"
          ]
        }
      ]
    },
    {
      "cell_type": "code",
      "metadata": {
        "colab": {
          "base_uri": "https://localhost:8080/"
        },
        "id": "9OXB2t7EzUD1",
        "outputId": "35628844-5512-4066-e076-3a8410d5d9d2"
      },
      "source": [
        "cursor.execute(nodes_query)\n",
        "nodes = cursor.fetchall()\n",
        "print(\"shape is: \" + str(len(nodes))) # 17465\n",
        "\n",
        "df_nodes = pd.DataFrame(nodes)\n",
        "colnames = [desc[0] for desc in cursor.description]\n",
        "df_nodes.columns = colnames\n",
        "\n",
        "print(df_nodes)"
      ],
      "execution_count": 11,
      "outputs": [
        {
          "output_type": "stream",
          "name": "stdout",
          "text": [
            "shape is: 132\n",
            "        id       officer_name  salary\n",
            "0    12967        Sonia Irwin   54672\n",
            "1    27872   John Summerville   72810\n",
            "2    19484          M L Moore   89130\n",
            "3     4416     Jerome Chapman   83220\n",
            "4     3993    Rodney Carriger   78012\n",
            "..     ...                ...     ...\n",
            "127   3087        Henry Brown   61518\n",
            "128   3267        Gary Bulava   74178\n",
            "129   8821  Gwendolyn Flowers   75372\n",
            "130  22087    Charles Pearson   96648\n",
            "131  19167         Ryan Milot   75372\n",
            "\n",
            "[132 rows x 3 columns]\n"
          ]
        }
      ]
    },
    {
      "cell_type": "code",
      "metadata": {
        "id": "R8emHtixy9WL"
      },
      "source": [
        "edges_ = spark.createDataFrame(df_edges)"
      ],
      "execution_count": 12,
      "outputs": []
    },
    {
      "cell_type": "code",
      "metadata": {
        "id": "nJWl6Qdby_gt"
      },
      "source": [
        "nodes = spark.createDataFrame(df_nodes)"
      ],
      "execution_count": 13,
      "outputs": []
    },
    {
      "cell_type": "code",
      "metadata": {
        "id": "gr1MqtFmzmoI"
      },
      "source": [
        "cpdb = GraphFrame(nodes, edges_)"
      ],
      "execution_count": 14,
      "outputs": []
    },
    {
      "cell_type": "code",
      "metadata": {
        "id": "ECa_nNmnzoZq",
        "colab": {
          "base_uri": "https://localhost:8080/"
        },
        "outputId": "2b90b8be-6efb-4e2a-d88f-7fc32a6ae37b"
      },
      "source": [
        "cpdb.vertices.show()"
      ],
      "execution_count": 15,
      "outputs": [
        {
          "output_type": "stream",
          "name": "stdout",
          "text": [
            "+-----+-----------------+------+\n",
            "|   id|     officer_name|salary|\n",
            "+-----+-----------------+------+\n",
            "|12967|      Sonia Irwin| 54672|\n",
            "|27872| John Summerville| 72810|\n",
            "|19484|        M L Moore| 89130|\n",
            "| 4416|   Jerome Chapman| 83220|\n",
            "| 3993|  Rodney Carriger| 78012|\n",
            "| 9723|       Teri Gates| 77238|\n",
            "|18670|   Gerald Meachum| 77514|\n",
            "|29807|   Richard Walker| 77514|\n",
            "|29499|        Leo Velez| 66906|\n",
            "|15847|  Frederick Layne| 79980|\n",
            "|23395|   Samuel Ramirez| 61932|\n",
            "|15516|      John Labiak| 62742|\n",
            "|21871|     Albert Parks| 73632|\n",
            "|19154|    Raymond Mills| 75816|\n",
            "| 9489|   Willie Ganison| 57426|\n",
            "|27672|   Baxter Streets| 80724|\n",
            "|20310|      Edward Nega| 78012|\n",
            "|24929|     Rick Runnels| 68262|\n",
            "|26184|Edward Shenberger| 77238|\n",
            "|22770|   Thomas Policky| 66924|\n",
            "+-----+-----------------+------+\n",
            "only showing top 20 rows\n",
            "\n"
          ]
        }
      ]
    },
    {
      "cell_type": "code",
      "metadata": {
        "id": "Y2GxzF5Ezwih",
        "colab": {
          "base_uri": "https://localhost:8080/"
        },
        "outputId": "ea67676e-a052-45b4-860c-cc54b374aeb6"
      },
      "source": [
        "cpdb.edges.show()"
      ],
      "execution_count": 16,
      "outputs": [
        {
          "output_type": "stream",
          "name": "stdout",
          "text": [
            "+---+-----+------------+\n",
            "|src|  dst|relationship|\n",
            "+---+-----+------------+\n",
            "|  9|12641|           1|\n",
            "|200| 3133|           1|\n",
            "|200|  241|           1|\n",
            "|200|  368|           1|\n",
            "|200|  381|           1|\n",
            "|200|  441|           1|\n",
            "|200|  607|           1|\n",
            "|200|  645|           1|\n",
            "|200|  828|           1|\n",
            "|200|  843|           1|\n",
            "|200| 1101|           1|\n",
            "|200| 1210|           1|\n",
            "|200| 1230|           1|\n",
            "|200| 1331|           1|\n",
            "|200| 3850|           1|\n",
            "|200| 3927|           1|\n",
            "|200| 4122|           1|\n",
            "|200| 4844|           1|\n",
            "|200| 4910|           1|\n",
            "|200| 4993|           1|\n",
            "+---+-----+------------+\n",
            "only showing top 20 rows\n",
            "\n"
          ]
        }
      ]
    },
    {
      "cell_type": "code",
      "metadata": {
        "id": "W1pU20x9zzAU",
        "colab": {
          "base_uri": "https://localhost:8080/"
        },
        "outputId": "d7ca1aae-ed5a-401e-b61c-864174e4ceba"
      },
      "source": [
        "cpdb.vertices.sort(['id'],ascending=True).show()"
      ],
      "execution_count": 17,
      "outputs": [
        {
          "output_type": "stream",
          "name": "stdout",
          "text": [
            "+----+---------------+------+\n",
            "|  id|   officer_name|salary|\n",
            "+----+---------------+------+\n",
            "| 927|    John Atkins| 70656|\n",
            "|1649|  Donald Becton|103590|\n",
            "|3087|    Henry Brown| 61518|\n",
            "|3267|    Gary Bulava| 74178|\n",
            "|3993|Rodney Carriger| 78012|\n",
            "|4034| Robert Carroll| 92430|\n",
            "|4416| Jerome Chapman| 83220|\n",
            "|5256|    John Conway| 66906|\n",
            "|5513|   James Cotton| 82878|\n",
            "|5683|   Victor Creed|117894|\n",
            "|5820|     Jimmy Cruz| 69684|\n",
            "|5966|  Joseph Curtin| 61566|\n",
            "|7000|   Milton Dixon| 78012|\n",
            "|7005|Vincent Dobbins| 59412|\n",
            "|7007|  Darrell Dobbs| 60600|\n",
            "|7099|   Gus Domenech| 80400|\n",
            "|7455| Thaddeus Dudek| 47604|\n",
            "|7572|    Kevin Dunne| 70260|\n",
            "|8015|   Robert Ervin| 82008|\n",
            "|8045|Victor Escobedo| 78360|\n",
            "+----+---------------+------+\n",
            "only showing top 20 rows\n",
            "\n"
          ]
        }
      ]
    },
    {
      "cell_type": "code",
      "metadata": {
        "id": "ZrwTM-u0z1nR",
        "colab": {
          "base_uri": "https://localhost:8080/"
        },
        "outputId": "597a9bce-4746-4a24-adcd-6845b0bee4f5"
      },
      "source": [
        "tc_cpdb = cpdb.triangleCount()\n",
        "tc_cpdb.orderBy('count', ascending=False).show()\n",
        "tc_cpdb.select(\"id\", \"count\").show()"
      ],
      "execution_count": 20,
      "outputs": [
        {
          "output_type": "stream",
          "name": "stdout",
          "text": [
            "+-----+-----+-----------------+------+\n",
            "|count|   id|     officer_name|salary|\n",
            "+-----+-----+-----------------+------+\n",
            "|   91|11530|     Henry Harris| 55764|\n",
            "|   91|17492|   Charles Martin| 69270|\n",
            "|   91|11512|   Carolyn Harris| 36984|\n",
            "|   91|27686|  Eric Strickland| 87372|\n",
            "|   91|30952|       Sam Wilson| 58572|\n",
            "|   91|24677|     Kenneth Rose|106920|\n",
            "|   91| 7007|    Darrell Dobbs| 60600|\n",
            "|   91| 8821|Gwendolyn Flowers| 75372|\n",
            "|   91|19279|  Joseph Mitchell| 58572|\n",
            "|   91| 5683|     Victor Creed|117894|\n",
            "|   91|12852|      Jerry Hutch| 64662|\n",
            "|   91| 7000|     Milton Dixon| 78012|\n",
            "|   91| 8773|    Joseph Flores| 70656|\n",
            "|   91| 7005|  Vincent Dobbins| 59412|\n",
            "|   91| 9489|   Willie Ganison| 57426|\n",
            "|   55| 4034|   Robert Carroll| 92430|\n",
            "|   55| 9679|     Charles Gary| 67704|\n",
            "|   55|19154|    Raymond Mills| 75816|\n",
            "|   55|22480|   Edwin Phillips| 80724|\n",
            "|   55| 4416|   Jerome Chapman| 83220|\n",
            "+-----+-----+-----------------+------+\n",
            "only showing top 20 rows\n",
            "\n",
            "+-----+-----+\n",
            "|   id|count|\n",
            "+-----+-----+\n",
            "|12967|    0|\n",
            "|19484|    5|\n",
            "|15847|    0|\n",
            "|21871|    4|\n",
            "|27872|    0|\n",
            "| 9723|    1|\n",
            "|24929|    0|\n",
            "|19154|   55|\n",
            "| 4416|   55|\n",
            "|18670|    0|\n",
            "|15516|    0|\n",
            "| 9489|   91|\n",
            "|26184|    0|\n",
            "|29807|   21|\n",
            "|27672|    0|\n",
            "| 3993|    0|\n",
            "|23395|    0|\n",
            "|22770|   36|\n",
            "|17375|    0|\n",
            "|20310|    0|\n",
            "+-----+-----+\n",
            "only showing top 20 rows\n",
            "\n"
          ]
        }
      ]
    },
    {
      "cell_type": "code",
      "metadata": {
        "id": "CTcT_BSXz4Nq",
        "colab": {
          "base_uri": "https://localhost:8080/"
        },
        "outputId": "69650859-53a5-4f3d-a45c-0657b5123571"
      },
      "source": [
        "pr_cpdb = cpdb.pageRank(resetProbability=0.15, tol=0.01)\n",
        "#look at the pagerank score for every vertex\n",
        "pr_cpdb.vertices.orderBy('pagerank', ascending=False).show()\n",
        "pr_cpdb.edges.show()"
      ],
      "execution_count": 19,
      "outputs": [
        {
          "output_type": "stream",
          "name": "stdout",
          "text": [
            "+-----+-------------------+------+------------------+\n",
            "|   id|       officer_name|salary|          pagerank|\n",
            "+-----+-------------------+------+------------------+\n",
            "|23005|         Paul Price| 72480| 4.641676118133547|\n",
            "|22480|     Edwin Phillips| 80724|3.2732836013158644|\n",
            "|19154|      Raymond Mills| 75816| 2.553781304879127|\n",
            "|18758|     Erskin Melchor| 73116|2.1062113854673212|\n",
            "|31438|        James Young| 59412| 1.982905201028162|\n",
            "|17964|  Michael Mc Carthy| 64992| 1.911034774119742|\n",
            "|31464|      Michael Ytsen|102978|1.8209790813684303|\n",
            "|18359|     John Mc Knight| 78450|1.8046105552641556|\n",
            "|27342|   Michael Stannish| 78006|1.6802670614445063|\n",
            "|12641|     Charles Howard| 75726| 1.637883922913204|\n",
            "|19750|       Edward Moses| 74628| 1.633363054803198|\n",
            "|30313|        George Weir| 70656| 1.633363054803198|\n",
            "|27518|   Tyrone Stevenson| 73296| 1.633363054803198|\n",
            "|22751|Sterling Poindexter| 59412| 1.633363054803198|\n",
            "|29056|     Charles Turner| 70656| 1.633363054803198|\n",
            "|13066|    Gregory Jackson| 78012|1.5819926563442928|\n",
            "|27557|     Ronald Stieben| 58572| 1.559733336622598|\n",
            "|28548|      Robert Thorne| 69264|1.4811856110336208|\n",
            "|21773| George Papagiannis| 75372|1.4289912956926218|\n",
            "|25131|      Jerry Saffold| 46206|1.4250957487125695|\n",
            "+-----+-------------------+------+------------------+\n",
            "only showing top 20 rows\n",
            "\n",
            "+----+-----+------------+--------------------+\n",
            "| src|  dst|relationship|              weight|\n",
            "+----+-----+------------+--------------------+\n",
            "| 200| 6346|           1| 0.00411522633744856|\n",
            "| 200|29882|           1| 0.00411522633744856|\n",
            "| 597|16746|           1|0.006024096385542169|\n",
            "| 597|29782|           1|0.006024096385542169|\n",
            "| 927|30211|           1|0.006172839506172839|\n",
            "|1649|26121|           1|0.005952380952380952|\n",
            "|5683|31167|           1|0.006289308176100629|\n",
            "|7000|14517|           1|0.006172839506172839|\n",
            "|7000|29036|           1|0.006172839506172839|\n",
            "|8045|10442|           1| 0.00819672131147541|\n",
            "|8140|21340|           1| 0.02857142857142857|\n",
            "| 200|27996|           1| 0.00411522633744856|\n",
            "| 927| 5844|           1|0.006172839506172839|\n",
            "| 927|14106|           1|0.006172839506172839|\n",
            "|1533| 3780|           1|0.017543859649122806|\n",
            "|1649| 2078|           1|0.005952380952380952|\n",
            "|2539|10773|           1|                 0.1|\n",
            "|3089|18323|           1| 0.03333333333333333|\n",
            "|3677|17960|           1|                 0.1|\n",
            "|3831|13831|           1|0.019230769230769232|\n",
            "+----+-----+------------+--------------------+\n",
            "only showing top 20 rows\n",
            "\n"
          ]
        }
      ]
    }
  ]
}