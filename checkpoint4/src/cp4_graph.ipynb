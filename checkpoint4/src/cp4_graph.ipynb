{
  "nbformat": 4,
  "nbformat_minor": 0,
  "metadata": {
    "colab": {
      "name": "SparkGraphXDemo.ipynb",
      "provenance": [],
      "collapsed_sections": [
        "Q_4J5zHXoFsE"
      ],
      "include_colab_link": true
    },
    "kernelspec": {
      "name": "python3",
      "display_name": "Python 3"
    },
    "language_info": {
      "name": "python"
    }
  },
  "cells": [
    {
      "cell_type": "markdown",
      "metadata": {
        "id": "view-in-github",
        "colab_type": "text"
      },
      "source": [
        "<a href=\"https://colab.research.google.com/github/baljash-cheema/The-Hungry-Hornets/blob/main/cp4_graph.ipynb\" target=\"_parent\"><img src=\"https://colab.research.google.com/assets/colab-badge.svg\" alt=\"Open In Colab\"/></a>"
      ]
    },
    {
      "cell_type": "markdown",
      "metadata": {
        "id": "Nn2ZF49Zl_4o"
      },
      "source": [
        "# **Graph Analytics Demo**\n",
        "**Using Spark GraphX**\n",
        "\n",
        "\n",
        "\n",
        "---\n"
      ]
    },
    {
      "cell_type": "markdown",
      "metadata": {
        "id": "UHMwakkymZfI"
      },
      "source": [
        "# **Spark and GraphFrames Set Up**\n"
      ]
    },
    {
      "cell_type": "code",
      "metadata": {
        "id": "8q9GaenM0qTu",
        "colab": {
          "base_uri": "https://localhost:8080/"
        },
        "outputId": "c6bafce0-1abc-4786-e127-dc3a306d70bf"
      },
      "source": [
        "# install java\n",
        "!apt-get install openjdk-8-jdk-headless -qq > /dev/null\n",
        "\n",
        "# install spark (change the version number if needed)\n",
        "!wget -q https://archive.apache.org/dist/spark/spark-3.2.0/spark-3.2.0-bin-hadoop3.2.tgz\n",
        "\n",
        "# unzip the spark file to the current folder\n",
        "!tar xf spark-3.2.0-bin-hadoop3.2.tgz\n",
        "\n",
        "# set your spark folder to your system path environment. \n",
        "import os\n",
        "os.environ[\"JAVA_HOME\"] = \"/usr/lib/jvm/java-8-openjdk-amd64\"\n",
        "os.environ[\"SPARK_HOME\"] = \"/content/spark-3.2.0-bin-hadoop3.2\"\n",
        "\n",
        "# install findspark using pip\n",
        "!pip install -q findspark\n",
        "\n",
        "# install pyspark\n",
        "!pip3 install pyspark==3.2.0\n",
        "\n",
        "# install graphframes\n",
        "!pip3 install graphframes"
      ],
      "execution_count": 1,
      "outputs": [
        {
          "output_type": "stream",
          "name": "stdout",
          "text": [
            "Collecting pyspark==3.2.0\n",
            "  Downloading pyspark-3.2.0.tar.gz (281.3 MB)\n",
            "\u001b[K     |████████████████████████████████| 281.3 MB 8.2 kB/s \n",
            "\u001b[?25hCollecting py4j==0.10.9.2\n",
            "  Downloading py4j-0.10.9.2-py2.py3-none-any.whl (198 kB)\n",
            "\u001b[K     |████████████████████████████████| 198 kB 31.6 MB/s \n",
            "\u001b[?25hBuilding wheels for collected packages: pyspark\n",
            "  Building wheel for pyspark (setup.py) ... \u001b[?25l\u001b[?25hdone\n",
            "  Created wheel for pyspark: filename=pyspark-3.2.0-py2.py3-none-any.whl size=281805912 sha256=228ec7f12ecca848718b224238b9fcdb053d59cf9f0262bba227134e6e3b796e\n",
            "  Stored in directory: /root/.cache/pip/wheels/0b/de/d2/9be5d59d7331c6c2a7c1b6d1a4f463ce107332b1ecd4e80718\n",
            "Successfully built pyspark\n",
            "Installing collected packages: py4j, pyspark\n",
            "Successfully installed py4j-0.10.9.2 pyspark-3.2.0\n",
            "Collecting graphframes\n",
            "  Downloading graphframes-0.6-py2.py3-none-any.whl (18 kB)\n",
            "Requirement already satisfied: numpy in /usr/local/lib/python3.7/dist-packages (from graphframes) (1.19.5)\n",
            "Collecting nose\n",
            "  Downloading nose-1.3.7-py3-none-any.whl (154 kB)\n",
            "\u001b[K     |████████████████████████████████| 154 kB 31.7 MB/s \n",
            "\u001b[?25hInstalling collected packages: nose, graphframes\n",
            "Successfully installed graphframes-0.6 nose-1.3.7\n"
          ]
        }
      ]
    },
    {
      "cell_type": "markdown",
      "metadata": {
        "id": "Li40SzYtq0H6"
      },
      "source": [
        "Download the graphframes jar file from: [Graphframe jar file:](https://repos.spark-packages.org/graphframes/graphframes/0.8.2-spark3.2-s_2.12/graphframes-0.8.2-spark3.2-s_2.12.jar)\n",
        "\n",
        "Upload it in the Google Colab Files folder. Can be found in the left pane of this window."
      ]
    },
    {
      "cell_type": "code",
      "metadata": {
        "colab": {
          "base_uri": "https://localhost:8080/"
        },
        "id": "6MVIEKxAHykk",
        "outputId": "69838611-61c3-4f4d-da32-a2d5299e6b7d"
      },
      "source": [
        "!cp -v /content/graphframes-0.8.2-spark3.2-s_2.12.jar $SPARK_HOME/jars/"
      ],
      "execution_count": 2,
      "outputs": [
        {
          "output_type": "stream",
          "name": "stdout",
          "text": [
            "'/content/graphframes-0.8.2-spark3.2-s_2.12.jar' -> '/content/spark-3.2.0-bin-hadoop3.2/jars/graphframes-0.8.2-spark3.2-s_2.12.jar'\n"
          ]
        }
      ]
    },
    {
      "cell_type": "code",
      "metadata": {
        "id": "vMzCLSn81Grr"
      },
      "source": [
        "#import the packages\n",
        "from pyspark import *\n",
        "from pyspark.sql import *\n",
        "from graphframes import *\n",
        "import findspark\n",
        "import pandas as pd\n",
        "\n",
        "findspark.init()\n",
        "\n",
        "# Start a Spark session\n",
        "spark = SparkSession.builder.master(\"local[*]\").getOrCreate()"
      ],
      "execution_count": 3,
      "outputs": []
    },
    {
      "cell_type": "markdown",
      "metadata": {
        "id": "sil6vP0sk6el"
      },
      "source": [
        "\n",
        "\n",
        "---\n",
        "# **This notebook covers the following:**\n",
        "\n",
        "\n",
        "---\n",
        "\n",
        "\n",
        "1.  **GraphFrames Basic Functionalities**\n",
        "\n",
        "\n",
        "*   Create GraphFrames\n",
        "*   Calculate inDegrees, outDegrees, degrees\n",
        "* Generate Subgraphs\n",
        "* Motif Finding\n",
        "2.  **Built-In Algorithms**\n",
        "\n",
        "*   Connected Components\n",
        "*   PageRank\n",
        "*   Triangle Count\n",
        "*   Label Propagation\n",
        "\n",
        "3. **CPDB Example**\n",
        "\n",
        "* Connect to the CPDB database\n",
        "* Create a graph from SQL tables\n",
        "* Graph Analytics \n"
      ]
    },
    {
      "cell_type": "markdown",
      "metadata": {
        "id": "ZmM6TmohmsUB"
      },
      "source": [
        "# **GraphX Basic Functionalities**"
      ]
    },
    {
      "cell_type": "markdown",
      "metadata": {
        "id": "yqrGx3yXOFFt"
      },
      "source": [
        "**Create Graphframes from vertices and edges Dataframe**"
      ]
    },
    {
      "cell_type": "code",
      "metadata": {
        "id": "6ELqmSwI1uzn"
      },
      "source": [
        "vertices = spark.createDataFrame([\n",
        "  (\"a\", \"Alice\", 34),\n",
        "  (\"b\", \"Bob\", 36),\n",
        "  (\"c\", \"Charlie\", 30),\n",
        "  (\"d\", \"David\", 29),\n",
        "  (\"e\", \"Esther\", 32),\n",
        "  (\"f\", \"Fanny\", 36),\n",
        "  (\"g\", \"Gabby\", 60)], [\"id\", \"name\", \"age\"])"
      ],
      "execution_count": null,
      "outputs": []
    },
    {
      "cell_type": "code",
      "metadata": {
        "id": "cig53T1r1zM-"
      },
      "source": [
        "edges = spark.createDataFrame([\n",
        "  (\"a\", \"b\", \"friend\"),\n",
        "  (\"b\", \"c\", \"follow\"),\n",
        "  (\"c\", \"b\", \"follow\"),\n",
        "  (\"f\", \"c\", \"follow\"),\n",
        "  (\"e\", \"f\", \"follow\"),\n",
        "  (\"e\", \"d\", \"friend\"),\n",
        "  (\"d\", \"a\", \"friend\"),\n",
        "  (\"a\", \"e\", \"friend\")\n",
        "], [\"src\", \"dst\", \"relationship\"])"
      ],
      "execution_count": null,
      "outputs": []
    },
    {
      "cell_type": "code",
      "metadata": {
        "id": "l0S8eIegdCvp"
      },
      "source": [
        "g = GraphFrame(vertices, edges)"
      ],
      "execution_count": null,
      "outputs": []
    },
    {
      "cell_type": "code",
      "metadata": {
        "colab": {
          "base_uri": "https://localhost:8080/"
        },
        "id": "weIdOfqwdGWi",
        "outputId": "0cdde8ad-8778-4df3-c880-f0e35a6f21fe"
      },
      "source": [
        "g.vertices.show()"
      ],
      "execution_count": null,
      "outputs": [
        {
          "output_type": "stream",
          "name": "stdout",
          "text": [
            "+---+-------+---+\n",
            "| id|   name|age|\n",
            "+---+-------+---+\n",
            "|  a|  Alice| 34|\n",
            "|  b|    Bob| 36|\n",
            "|  c|Charlie| 30|\n",
            "|  d|  David| 29|\n",
            "|  e| Esther| 32|\n",
            "|  f|  Fanny| 36|\n",
            "|  g|  Gabby| 60|\n",
            "+---+-------+---+\n",
            "\n"
          ]
        }
      ]
    },
    {
      "cell_type": "code",
      "metadata": {
        "colab": {
          "base_uri": "https://localhost:8080/"
        },
        "id": "1IgDGJ3_hIb3",
        "outputId": "30697a6c-c89f-4ae4-8e56-135009c5036c"
      },
      "source": [
        "g.edges.show()"
      ],
      "execution_count": null,
      "outputs": [
        {
          "output_type": "stream",
          "name": "stdout",
          "text": [
            "+---+---+------------+\n",
            "|src|dst|relationship|\n",
            "+---+---+------------+\n",
            "|  a|  b|      friend|\n",
            "|  b|  c|      follow|\n",
            "|  c|  b|      follow|\n",
            "|  f|  c|      follow|\n",
            "|  e|  f|      follow|\n",
            "|  e|  d|      friend|\n",
            "|  d|  a|      friend|\n",
            "|  a|  e|      friend|\n",
            "+---+---+------------+\n",
            "\n"
          ]
        }
      ]
    },
    {
      "cell_type": "code",
      "metadata": {
        "colab": {
          "base_uri": "https://localhost:8080/"
        },
        "id": "m8vQ2L1nnWrQ",
        "outputId": "bbadca3d-2b7e-4182-ebc6-7c5b9f502bbe"
      },
      "source": [
        "g.vertices.count()"
      ],
      "execution_count": null,
      "outputs": [
        {
          "output_type": "execute_result",
          "data": {
            "text/plain": [
              "7"
            ]
          },
          "metadata": {},
          "execution_count": 9
        }
      ]
    },
    {
      "cell_type": "code",
      "metadata": {
        "colab": {
          "base_uri": "https://localhost:8080/"
        },
        "id": "xdnTgXfQnaK8",
        "outputId": "4b821751-cb7b-4794-96c7-321d8169f2d8"
      },
      "source": [
        "g.edges.count()"
      ],
      "execution_count": null,
      "outputs": [
        {
          "output_type": "execute_result",
          "data": {
            "text/plain": [
              "8"
            ]
          },
          "metadata": {},
          "execution_count": 10
        }
      ]
    },
    {
      "cell_type": "code",
      "metadata": {
        "id": "YbXI5s3niMi-"
      },
      "source": [
        "# NetworkX to visualize the graph\n",
        "import networkx as nx\n",
        "\n",
        "def plot_graph(gx):\n",
        "    g = nx.DiGraph(directed = True)\n",
        "    \n",
        "    g = nx.from_pandas_edgelist(gx.edges.toPandas(),'src','dst')\n",
        "    g.add_nodes_from(gx.vertices.toPandas()['id'])\n",
        "\n",
        "    nx.draw(g, with_labels=True, arrows = True, node_color='grey')"
      ],
      "execution_count": null,
      "outputs": []
    },
    {
      "cell_type": "code",
      "metadata": {
        "colab": {
          "base_uri": "https://localhost:8080/",
          "height": 319
        },
        "id": "Cf0AX_xqiC21",
        "outputId": "748ee377-39e4-4178-85c9-4d25063491e3"
      },
      "source": [
        "plot_graph(g)"
      ],
      "execution_count": null,
      "outputs": [
        {
          "output_type": "display_data",
          "data": {
            "image/png": "[encoded data removed]",
            "text/plain": [
              "<Figure size 432x288 with 1 Axes>"
            ]
          },
          "metadata": {}
        }
      ]
    },
    {
      "cell_type": "markdown",
      "metadata": {
        "id": "cWuGNR9LhZDh"
      },
      "source": [
        "\n",
        "\n",
        "\n",
        "**inDegrees** is the number of edges directed into a vertex in a directed graph\n",
        "\n",
        "Usecase: We can identify those vertices/nodes that are highly connected by using the sort function"
      ]
    },
    {
      "cell_type": "code",
      "metadata": {
        "colab": {
          "base_uri": "https://localhost:8080/"
        },
        "id": "kU9iS0bdhrzh",
        "outputId": "65a7ac58-ff12-4b91-e7d7-d58009b5b14a"
      },
      "source": [
        "g.inDegrees.sort(['inDegree'],ascending=[0]).show()"
      ],
      "execution_count": null,
      "outputs": [
        {
          "output_type": "stream",
          "name": "stdout",
          "text": [
            "+---+--------+\n",
            "| id|inDegree|\n",
            "+---+--------+\n",
            "|  b|       2|\n",
            "|  c|       2|\n",
            "|  f|       1|\n",
            "|  e|       1|\n",
            "|  a|       1|\n",
            "|  d|       1|\n",
            "+---+--------+\n",
            "\n"
          ]
        }
      ]
    },
    {
      "cell_type": "markdown",
      "metadata": {
        "id": "gHJ6S0YsiyAe"
      },
      "source": [
        "**outDegrees** is the number of edges directed out of a vertex in a directed graph"
      ]
    },
    {
      "cell_type": "code",
      "metadata": {
        "colab": {
          "base_uri": "https://localhost:8080/"
        },
        "id": "D8HWlmY-hKgS",
        "outputId": "690a5ea5-9245-4950-9040-b78b62b9e88d"
      },
      "source": [
        "g.outDegrees.sort(['outDegree'],ascending=[0]).show()"
      ],
      "execution_count": null,
      "outputs": [
        {
          "output_type": "stream",
          "name": "stdout",
          "text": [
            "+---+---------+\n",
            "| id|outDegree|\n",
            "+---+---------+\n",
            "|  e|        2|\n",
            "|  a|        2|\n",
            "|  f|        1|\n",
            "|  c|        1|\n",
            "|  d|        1|\n",
            "|  b|        1|\n",
            "+---+---------+\n",
            "\n"
          ]
        }
      ]
    },
    {
      "cell_type": "markdown",
      "metadata": {
        "id": "zGF5S6y8i_mo"
      },
      "source": [
        "**Degree** is just the number of edges connected to a node regardless of the direction of an edge"
      ]
    },
    {
      "cell_type": "code",
      "metadata": {
        "colab": {
          "base_uri": "https://localhost:8080/"
        },
        "id": "38PQX2y_hp7D",
        "outputId": "8fc0d113-1ccc-4ac7-cb48-2fa9762063f5"
      },
      "source": [
        "g.degrees.sort(['Degree'],ascending=[0]).show()"
      ],
      "execution_count": null,
      "outputs": [
        {
          "output_type": "stream",
          "name": "stdout",
          "text": [
            "+---+------+\n",
            "| id|degree|\n",
            "+---+------+\n",
            "|  c|     3|\n",
            "|  e|     3|\n",
            "|  b|     3|\n",
            "|  a|     3|\n",
            "|  f|     2|\n",
            "|  d|     2|\n",
            "+---+------+\n",
            "\n"
          ]
        }
      ]
    },
    {
      "cell_type": "markdown",
      "metadata": {
        "id": "rimmsJLrOVdj"
      },
      "source": [
        "**Create Subgraphs**"
      ]
    },
    {
      "cell_type": "code",
      "metadata": {
        "colab": {
          "base_uri": "https://localhost:8080/"
        },
        "id": "sby_7i81NAnd",
        "outputId": "acec4f90-3df5-4376-d7d3-ea59287aea89"
      },
      "source": [
        "g1 = g.filterVertices(\"age > 20\").filterEdges(\"relationship = 'friend'\").dropIsolatedVertices()\n",
        "g1.edges.show()"
      ],
      "execution_count": null,
      "outputs": [
        {
          "output_type": "stream",
          "name": "stdout",
          "text": [
            "+---+---+------------+\n",
            "|src|dst|relationship|\n",
            "+---+---+------------+\n",
            "|  d|  a|      friend|\n",
            "|  a|  b|      friend|\n",
            "|  e|  d|      friend|\n",
            "|  a|  e|      friend|\n",
            "+---+---+------------+\n",
            "\n"
          ]
        }
      ]
    },
    {
      "cell_type": "code",
      "metadata": {
        "colab": {
          "base_uri": "https://localhost:8080/"
        },
        "id": "uLlzmG43MCdc",
        "outputId": "17d5ac99-ff90-4966-fdb2-067cbb679b6d"
      },
      "source": [
        "# Select subgraph based on edges \"e\" of type \"follow\"\n",
        "# pointing from a younger user \"a\" to an older user \"b\".\n",
        "paths = g.find(\"(a)-[e]->(b)\")\\\n",
        "  .filter(\"e.relationship = 'follow'\")\\\n",
        "  .filter(\"a.age < b.age\")\n",
        "\n",
        "# \"paths\" contains vertex info. Extract the edges.\n",
        "e2 = paths.select(\"e.src\", \"e.dst\", \"e.relationship\")\n",
        "\n",
        "\n",
        "# Construct the subgraph\n",
        "g2 = GraphFrame(g.vertices, e2)\n",
        "g2.edges.show()"
      ],
      "execution_count": null,
      "outputs": [
        {
          "output_type": "stream",
          "name": "stdout",
          "text": [
            "+---+---+------------+\n",
            "|src|dst|relationship|\n",
            "+---+---+------------+\n",
            "|  c|  b|      follow|\n",
            "|  e|  f|      follow|\n",
            "+---+---+------------+\n",
            "\n"
          ]
        }
      ]
    },
    {
      "cell_type": "markdown",
      "metadata": {
        "id": "USscC_rVQCoV"
      },
      "source": [
        "**Motif Finding**\n",
        "\n",
        "Used for searching for structural patterns in a graph. \n",
        "\n",
        "\n",
        "Eg. `\"(a)-[e]->(b); (b)-[e2]->(c)\"` specifies all the transitive relationships between a and c\n",
        "\n"
      ]
    },
    {
      "cell_type": "code",
      "metadata": {
        "colab": {
          "base_uri": "https://localhost:8080/"
        },
        "id": "vdv49KkVPxpI",
        "outputId": "67e67b43-7cc0-4c44-abc7-4903dc1f147c"
      },
      "source": [
        "# Search for pairs of vertices with edges in both directions between them.\n",
        "motifs = g.find(\"(a)-[e]->(b); (b)-[e2]->(a)\")\n",
        "motifs.show()"
      ],
      "execution_count": null,
      "outputs": [
        {
          "output_type": "stream",
          "name": "stdout",
          "text": [
            "+----------------+--------------+----------------+--------------+\n",
            "|               a|             e|               b|            e2|\n",
            "+----------------+--------------+----------------+--------------+\n",
            "|{c, Charlie, 30}|{c, b, follow}|    {b, Bob, 36}|{b, c, follow}|\n",
            "|    {b, Bob, 36}|{b, c, follow}|{c, Charlie, 30}|{c, b, follow}|\n",
            "+----------------+--------------+----------------+--------------+\n",
            "\n"
          ]
        }
      ]
    },
    {
      "cell_type": "code",
      "metadata": {
        "colab": {
          "base_uri": "https://localhost:8080/"
        },
        "id": "FV5TauO7UIMA",
        "outputId": "e7568c43-5aef-48a7-ffcf-c99bbc9fa4e3"
      },
      "source": [
        "# More complex queries can be expressed by applying filters.\n",
        "motifs.filter(\"b.age > 30\").show()"
      ],
      "execution_count": null,
      "outputs": [
        {
          "output_type": "stream",
          "name": "stdout",
          "text": [
            "+----------------+--------------+------------+--------------+\n",
            "|               a|             e|           b|            e2|\n",
            "+----------------+--------------+------------+--------------+\n",
            "|{c, Charlie, 30}|{c, b, follow}|{b, Bob, 36}|{b, c, follow}|\n",
            "+----------------+--------------+------------+--------------+\n",
            "\n"
          ]
        }
      ]
    },
    {
      "cell_type": "markdown",
      "metadata": {
        "id": "Q_4J5zHXoFsE"
      },
      "source": [
        "# **Built-In Algorithms**\n",
        "\n",
        "\n",
        "---\n",
        "\n"
      ]
    },
    {
      "cell_type": "markdown",
      "metadata": {
        "id": "Qlo3KudDqHlq"
      },
      "source": [
        "**PageRank Algorithm**:"
      ]
    },
    {
      "cell_type": "code",
      "metadata": {
        "colab": {
          "base_uri": "https://localhost:8080/"
        },
        "id": "XH1j3mJqp9aC",
        "outputId": "bcafbbcc-ccc9-4010-bc93-a79d8bfa8a3f"
      },
      "source": [
        "pr = g.pageRank(resetProbability=0.15, tol=0.01)\n",
        "## look at the pagerank score for every vertex\n",
        "pr.vertices.show()\n",
        "## look at the weight of every edge\n",
        "pr.edges.show()"
      ],
      "execution_count": null,
      "outputs": [
        {
          "output_type": "stream",
          "name": "stdout",
          "text": [
            "+---+-------+---+-------------------+\n",
            "| id|   name|age|           pagerank|\n",
            "+---+-------+---+-------------------+\n",
            "|  g|  Gabby| 60| 0.1799821386239711|\n",
            "|  f|  Fanny| 36| 0.3283606792049851|\n",
            "|  e| Esther| 32|0.37085233187676075|\n",
            "|  d|  David| 29| 0.3283606792049851|\n",
            "|  c|Charlie| 30| 2.6878300011606218|\n",
            "|  b|    Bob| 36|  2.655507832863289|\n",
            "|  a|  Alice| 34|0.44910633706538744|\n",
            "+---+-------+---+-------------------+\n",
            "\n",
            "+---+---+------------+------+\n",
            "|src|dst|relationship|weight|\n",
            "+---+---+------------+------+\n",
            "|  f|  c|      follow|   1.0|\n",
            "|  e|  f|      follow|   0.5|\n",
            "|  e|  d|      friend|   0.5|\n",
            "|  d|  a|      friend|   1.0|\n",
            "|  c|  b|      follow|   1.0|\n",
            "|  b|  c|      follow|   1.0|\n",
            "|  a|  e|      friend|   0.5|\n",
            "|  a|  b|      friend|   0.5|\n",
            "+---+---+------------+------+\n",
            "\n"
          ]
        }
      ]
    },
    {
      "cell_type": "markdown",
      "metadata": {
        "id": "YhG88gmovjPg"
      },
      "source": [
        "**Connected Components**"
      ]
    },
    {
      "cell_type": "code",
      "metadata": {
        "id": "x1UcOUhAvqZy"
      },
      "source": [
        "from pyspark.context import SparkContext\n",
        "sc = SparkContext.getOrCreate(SparkConf())\n",
        "sc.setCheckpointDir('/content/sample_data')\n",
        "# SparkContext.setCheckpointDir(dirName= '/content/sample_data')\n"
      ],
      "execution_count": null,
      "outputs": []
    },
    {
      "cell_type": "code",
      "metadata": {
        "id": "7qQ5ywgbvjfD",
        "colab": {
          "base_uri": "https://localhost:8080/"
        },
        "outputId": "2f457d78-6908-4854-9c26-47671ba7b477"
      },
      "source": [
        "g.connectedComponents().show()"
      ],
      "execution_count": null,
      "outputs": [
        {
          "output_type": "stream",
          "name": "stdout",
          "text": [
            "+---+-------+---+------------+\n",
            "| id|   name|age|   component|\n",
            "+---+-------+---+------------+\n",
            "|  a|  Alice| 34|412316860416|\n",
            "|  b|    Bob| 36|412316860416|\n",
            "|  c|Charlie| 30|412316860416|\n",
            "|  d|  David| 29|412316860416|\n",
            "|  e| Esther| 32|412316860416|\n",
            "|  f|  Fanny| 36|412316860416|\n",
            "|  g|  Gabby| 60|146028888064|\n",
            "+---+-------+---+------------+\n",
            "\n"
          ]
        }
      ]
    },
    {
      "cell_type": "markdown",
      "metadata": {
        "id": "mNYJCKONoNBn"
      },
      "source": [
        "**Label Propagation**\n"
      ]
    },
    {
      "cell_type": "code",
      "metadata": {
        "id": "28LHiecbJqoO",
        "colab": {
          "base_uri": "https://localhost:8080/"
        },
        "outputId": "a58f81e5-44a1-457c-fc48-0d185f80a3ee"
      },
      "source": [
        "communities = g.labelPropagation(maxIter=40)\n",
        "communities.persist().show(10)\n",
        "print (f\"There are {communities.select('label').distinct().count()} communities in this sample graph.\")"
      ],
      "execution_count": null,
      "outputs": [
        {
          "output_type": "stream",
          "name": "stdout",
          "text": [
            "+---+-------+---+-------------+\n",
            "| id|   name|age|        label|\n",
            "+---+-------+---+-------------+\n",
            "|  g|  Gabby| 60| 146028888064|\n",
            "|  b|    Bob| 36|1382979469312|\n",
            "|  e| Esther| 32|1047972020224|\n",
            "|  a|  Alice| 34|1460288880640|\n",
            "|  f|  Fanny| 36|1460288880640|\n",
            "|  d|  David| 29|1382979469312|\n",
            "|  c|Charlie| 30|1047972020224|\n",
            "+---+-------+---+-------------+\n",
            "\n",
            "There are 4 communities in this sample graph.\n"
          ]
        }
      ]
    },
    {
      "cell_type": "code",
      "metadata": {
        "id": "EU8iMS1VpMJP",
        "colab": {
          "base_uri": "https://localhost:8080/"
        },
        "outputId": "59c3618f-731d-4d69-984e-5ddfa41f002b"
      },
      "source": [
        "#only shows the top 5 rows\n",
        "labelp_result.groupby('label').count().sort('count', ascending=False).show(5)"
      ],
      "execution_count": null,
      "outputs": [
        {
          "output_type": "stream",
          "name": "stdout",
          "text": [
            "+-------------+-----+\n",
            "|        label|count|\n",
            "+-------------+-----+\n",
            "|1382979469312|    2|\n",
            "|1047972020224|    2|\n",
            "|1460288880640|    2|\n",
            "| 146028888064|    1|\n",
            "+-------------+-----+\n",
            "\n"
          ]
        }
      ]
    },
    {
      "cell_type": "markdown",
      "metadata": {
        "id": "Pq2FwN7aUSoE"
      },
      "source": [
        "**Triangle Count**"
      ]
    },
    {
      "cell_type": "code",
      "metadata": {
        "id": "qEq05nsFXPje",
        "colab": {
          "base_uri": "https://localhost:8080/"
        },
        "outputId": "d7259abf-0843-4a79-8a4d-110b9a441d33"
      },
      "source": [
        "tc_friends = g.triangleCount()\n",
        "tc_friends.select(\"id\", \"count\").show()"
      ],
      "execution_count": null,
      "outputs": [
        {
          "output_type": "stream",
          "name": "stdout",
          "text": [
            "+---+-----+\n",
            "| id|count|\n",
            "+---+-----+\n",
            "|  c|    0|\n",
            "|  b|    0|\n",
            "|  a|    1|\n",
            "|  g|    0|\n",
            "|  f|    0|\n",
            "|  e|    1|\n",
            "|  d|    1|\n",
            "+---+-----+\n",
            "\n"
          ]
        }
      ]
    },
    {
      "cell_type": "markdown",
      "metadata": {
        "id": "PK860SmxxHRb"
      },
      "source": [
        "# **CPDB Example**\n",
        "\n",
        "Analyze the police officers connection with allegations"
      ]
    },
    {
      "cell_type": "code",
      "metadata": {
        "id": "1ei_oY0-OcaJ"
      },
      "source": [
        "import psycopg2"
      ],
      "execution_count": 6,
      "outputs": []
    },
    {
      "cell_type": "code",
      "metadata": {
        "id": "L4YGowB2Occ7"
      },
      "source": [
        "# access the postgresql server\n",
        "conn = psycopg2.connect(\n",
        "    host=\"codd04.research.northwestern.edu\",\n",
        "    port = \"5433\",\n",
        "    database=\"postgres\",\n",
        "    user=\"cpdbstudent\",\n",
        "    password=\"DataSci4AI\")"
      ],
      "execution_count": 7,
      "outputs": []
    },
    {
      "cell_type": "code",
      "metadata": {
        "id": "fUSZMYh5Ohg7"
      },
      "source": [
        "cursor = conn.cursor()"
      ],
      "execution_count": 8,
      "outputs": []
    },
    {
      "cell_type": "markdown",
      "metadata": {
        "id": "xdjZye58yCEP"
      },
      "source": [
        "**Following query creates nodes and edges to answer the questions.**\n",
        "\n",
        "\n",
        "\n",
        "*   **nodes**: id, officer name and allegation count\n",
        "*   **edges**: src(officer1 id), dist(officer2 id) and relationship(allegation count)"
      ]
    },
    {
      "cell_type": "code",
      "metadata": {
        "id": "zkOfRw_FOhk0"
      },
      "source": [
        "edges_query = \"DROP TABLE IF EXISTS award_count;CREATE TEMP TABLE award_count AS (SELECT officer_id offid, count(award_type) num_awards FROM data_award WHERE data_award.officer_id IN (SELECT id FROM data_officer WHERE data_officer.id IN (SELECT officer_id FROM data_officerallegation WHERE data_officerallegation.allegation_category_id IN (SELECT id FROM data_allegationcategory WHERE data_allegationcategory.category = 'Drug / Alcohol Abuse' OR data_allegationcategory.category = 'Medical' or allegation_name LIKE 'Medical Roll%' OR data_allegationcategory.category_code IN ('024', '003', '003A', '003B', '003C', '003D', '003E')))) group by officer_id); DROP TABLE IF EXISTS da_category_ids;CREATE TEMP TABLE da_category_ids AS (SELECT id FROM data_allegationcategory WHERE data_allegationcategory.category = 'Drug / Alcohol Abuse' OR data_allegationcategory.category = 'Medical' or allegation_name LIKE 'Medical Roll%' OR data_allegationcategory.category_code IN ('08J', '024', '003', '003A', '003B', '003C', '003D', '003E')); DROP TABLE IF EXISTS da_cohort; CREATE TEMP TABLE da_cohort AS (SELECT DISTINCT officer_id FROM data_officerallegation WHERE allegation_category_id IN (SELECT * from da_category_ids)); DELETE FROM da_cohort c USING award_count a WHERE a.offid = c.officer_id AND a.num_awards > (SELECT AVG(num_awards) FROM award_count); DROP TABLE IF EXISTS class_example; CREATE TEMP TABLE class_example AS (SELECT da1.officer_id src, da2.officer_id dst, COUNT(DISTINCT da1.allegation_id) relationship FROM data_officerallegation da1 JOIN data_officerallegation da2 ON da1.allegation_id = da2.allegation_id AND da1.officer_id < da2.officer_id GROUP BY da1.officer_id, da2.officer_id ORDER BY count(*) DESC); SELECT src,dst,relationship FROM class_example JOIN da_cohort ON da_cohort.officer_id = class_example.src;\"\n"
      ],
      "execution_count": 34,
      "outputs": []
    },
    {
      "cell_type": "code",
      "metadata": {
        "id": "OcMIWVuTOl18"
      },
      "source": [
        "nodes_query = \"SELECT  id, first_name || ' ' || last_name officer_name, allegation_count FROM data_officer;\""
      ],
      "execution_count": 35,
      "outputs": []
    },
    {
      "cell_type": "code",
      "metadata": {
        "id": "HAAAAxavOl7g",
        "outputId": "4f331a5c-f138-42c0-aa6a-dd0c8dcefc5f",
        "colab": {
          "base_uri": "https://localhost:8080/"
        }
      },
      "source": [
        "cursor.execute(edges_query)\n",
        "edges = cursor.fetchall()\n",
        "print(\"shape is: \" + str(len(edges))) # 17465\n",
        "\n",
        "df_edges = pd.DataFrame(edges)\n",
        "colnames = [desc[0] for desc in cursor.description]\n",
        "df_edges.columns = colnames\n",
        "\n",
        "print(df_edges.shape)"
      ],
      "execution_count": 36,
      "outputs": [
        {
          "output_type": "stream",
          "name": "stdout",
          "text": [
            "shape is: 17399\n",
            "(17399, 3)\n"
          ]
        }
      ]
    },
    {
      "cell_type": "code",
      "metadata": {
        "id": "itgubJqDOq-b",
        "outputId": "a9d34f0a-6222-42eb-97fe-daefc2d1e235",
        "colab": {
          "base_uri": "https://localhost:8080/"
        }
      },
      "source": [
        "cursor.execute(nodes_query)\n",
        "nodes = cursor.fetchall()\n",
        "print(\"shape is: \" + str(len(nodes))) # 17465\n",
        "\n",
        "df_nodes = pd.DataFrame(nodes)\n",
        "colnames = [desc[0] for desc in cursor.description]\n",
        "df_nodes.columns = colnames\n",
        "\n",
        "print(df_nodes.shape)"
      ],
      "execution_count": 37,
      "outputs": [
        {
          "output_type": "stream",
          "name": "stdout",
          "text": [
            "shape is: 35545\n",
            "(35545, 3)\n"
          ]
        }
      ]
    },
    {
      "cell_type": "code",
      "metadata": {
        "id": "Z6Ndlh2fOuPr"
      },
      "source": [
        "edges_ = spark.createDataFrame(df_edges)"
      ],
      "execution_count": 38,
      "outputs": []
    },
    {
      "cell_type": "code",
      "metadata": {
        "id": "NQpUzzhiOuM6"
      },
      "source": [
        "nodes = spark.createDataFrame(df_nodes)"
      ],
      "execution_count": 39,
      "outputs": []
    },
    {
      "cell_type": "code",
      "metadata": {
        "id": "5E6wePicOzAe"
      },
      "source": [
        "cpdb = GraphFrame(nodes, edges_)"
      ],
      "execution_count": 40,
      "outputs": []
    },
    {
      "cell_type": "code",
      "metadata": {
        "id": "nGmLt3whyPAu",
        "outputId": "da79a059-6785-4eca-f1f3-14b4354ce2ed",
        "colab": {
          "base_uri": "https://localhost:8080/"
        }
      },
      "source": [
        "cpdb.vertices.show()"
      ],
      "execution_count": 41,
      "outputs": [
        {
          "output_type": "stream",
          "name": "stdout",
          "text": [
            "+-----+---------------+----------------+\n",
            "|   id|   officer_name|allegation_count|\n",
            "+-----+---------------+----------------+\n",
            "|32312|   Randall Ryan|            10.0|\n",
            "|32358|    Kevin Stoll|            24.0|\n",
            "|32480|    David Lavin|             0.0|\n",
            "|32491|     Kevin Rake|             0.0|\n",
            "| 2680| Richard Brandt|             0.0|\n",
            "|29553| Hugh Versteegh|             0.0|\n",
            "|19974|  Andrew Murcia|             0.0|\n",
            "| 8259|    Hugh Farmer|             0.0|\n",
            "|17716|Anthony Matassa|             0.0|\n",
            "|19659|  John Moriarty|             0.0|\n",
            "|32506|Richard Francis|             0.0|\n",
            "|29111|   Robert Tyson|             0.0|\n",
            "| 1791|  Chas Bennette|             0.0|\n",
            "|17146|  Robert Malone|             0.0|\n",
            "|17242|  Jerry Manning|             0.0|\n",
            "|17289|Michael Maratto|             0.0|\n",
            "|32467|  Jonathan Boyd|             0.0|\n",
            "|33755|Phyllis Butcher|             1.0|\n",
            "|  333|Leroy Alexander|             0.0|\n",
            "|18597|  James Mcglynn|             0.0|\n",
            "+-----+---------------+----------------+\n",
            "only showing top 20 rows\n",
            "\n"
          ]
        }
      ]
    },
    {
      "cell_type": "code",
      "metadata": {
        "id": "MQ3vTw0yySrG",
        "outputId": "837d72fe-a013-40c2-94db-d1dd09f62f87",
        "colab": {
          "base_uri": "https://localhost:8080/"
        }
      },
      "source": [
        "cpdb.edges.show()"
      ],
      "execution_count": 42,
      "outputs": [
        {
          "output_type": "stream",
          "name": "stdout",
          "text": [
            "+---+-----+------------+\n",
            "|src|  dst|relationship|\n",
            "+---+-----+------------+\n",
            "|  9|12641|           1|\n",
            "| 17|26456|           2|\n",
            "| 17|10656|           2|\n",
            "| 17|22523|           1|\n",
            "| 17|20246|           1|\n",
            "| 17|15351|           1|\n",
            "| 17|12521|           1|\n",
            "| 17| 9373|           1|\n",
            "| 17| 6885|           1|\n",
            "| 17| 4494|           1|\n",
            "| 17|32102|           1|\n",
            "| 17|28925|           1|\n",
            "| 17|27976|           1|\n",
            "| 54|27802|           1|\n",
            "| 54|29189|           1|\n",
            "| 54|30398|           1|\n",
            "| 54|31550|           1|\n",
            "| 54|31756|           1|\n",
            "| 54| 4168|           1|\n",
            "| 54|11252|           1|\n",
            "+---+-----+------------+\n",
            "only showing top 20 rows\n",
            "\n"
          ]
        }
      ]
    },
    {
      "cell_type": "code",
      "metadata": {
        "id": "hzc372hgOzDF",
        "outputId": "8b3f8d59-84dc-4321-c1c2-d06c6473db80",
        "colab": {
          "base_uri": "https://localhost:8080/"
        }
      },
      "source": [
        "cpdb.vertices.sort(['id'],ascending=True).show()"
      ],
      "execution_count": 43,
      "outputs": [
        {
          "output_type": "stream",
          "name": "stdout",
          "text": [
            "+---+-----------------+----------------+\n",
            "| id|     officer_name|allegation_count|\n",
            "+---+-----------------+----------------+\n",
            "|  1|    Jeffery Aaron|             6.0|\n",
            "|  2|     Karina Aaron|             8.0|\n",
            "|  3|     Daniel Abate|             0.0|\n",
            "|  4|    Carmel Abbate|             7.0|\n",
            "|  5|    Carmen Abbate|             4.0|\n",
            "|  6|   Anthony Abbate|             6.0|\n",
            "|  7|     Terry Abbate|             8.0|\n",
            "|  8|       Leon Abbey|             2.0|\n",
            "|  9|    Michael Abbey|             3.0|\n",
            "| 10|       Leon Abbey|             0.0|\n",
            "| 11|     Laura Abbott|             7.0|\n",
            "| 12|    Andrew Abbott|             7.0|\n",
            "| 13|      Dale Abbott|            10.0|\n",
            "| 14| Elizabeth Abbott|             4.0|\n",
            "| 15|    Zaid Abdallah|             1.0|\n",
            "| 16| Aziz Abdelmajeid|            19.0|\n",
            "| 17|  Moulay Abdullah|            25.0|\n",
            "| 18|    Jason Abejero|             5.0|\n",
            "| 19|Restituto Abejero|             5.0|\n",
            "| 20|    Kenneth Abels|             3.0|\n",
            "+---+-----------------+----------------+\n",
            "only showing top 20 rows\n",
            "\n"
          ]
        }
      ]
    },
    {
      "cell_type": "markdown",
      "metadata": {
        "id": "M9bbYBH1OjOy"
      },
      "source": [
        "**Implement Graph Algorithms**"
      ]
    },
    {
      "cell_type": "code",
      "metadata": {
        "id": "bjfzCySMdHr7",
        "outputId": "d624c97d-35a3-4071-a2bb-8f0fc377de0c",
        "colab": {
          "base_uri": "https://localhost:8080/"
        }
      },
      "source": [
        "tc_cpdb = cpdb.triangleCount()\n",
        "tc_cpdb.select(\"id\", \"count\").show()"
      ],
      "execution_count": 44,
      "outputs": [
        {
          "output_type": "stream",
          "name": "stdout",
          "text": [
            "+-----+-----+\n",
            "|   id|count|\n",
            "+-----+-----+\n",
            "|19659|    0|\n",
            "| 8259|    0|\n",
            "|33755|    0|\n",
            "|17716|    0|\n",
            "|33725|    0|\n",
            "|32506|    0|\n",
            "|17146|    0|\n",
            "|  333|    0|\n",
            "|17289|    0|\n",
            "| 2680|    0|\n",
            "|19974|    0|\n",
            "|17242|    0|\n",
            "|32491|    0|\n",
            "|32312|    0|\n",
            "|32358|    0|\n",
            "|32480|    0|\n",
            "| 1791|    0|\n",
            "|18597|    0|\n",
            "|29553|    0|\n",
            "|29111|    0|\n",
            "+-----+-----+\n",
            "only showing top 20 rows\n",
            "\n"
          ]
        }
      ]
    },
    {
      "cell_type": "code",
      "metadata": {
        "id": "6R15Gbqv2kQT",
        "outputId": "e5b918d8-8d2e-4b1a-aa01-b66a82f21214",
        "colab": {
          "base_uri": "https://localhost:8080/"
        }
      },
      "source": [
        "pr_cpdb = cpdb.pageRank(resetProbability=0.15, tol=0.01)\n",
        "#look at the pagerank score for every vertex\n",
        "pr_cpdb.vertices.orderBy('pagerank', ascending=False).show()"
      ],
      "execution_count": 45,
      "outputs": [
        {
          "output_type": "stream",
          "name": "stdout",
          "text": [
            "+-----+-----------------+----------------+------------------+\n",
            "|   id|     officer_name|allegation_count|          pagerank|\n",
            "+-----+-----------------+----------------+------------------+\n",
            "|29955|     Carl Walston|             1.0| 9.488189209095959|\n",
            "|23005|       Paul Price|             1.0|5.1287509238356535|\n",
            "|32032|    Brian Hawkins|            49.0| 3.822971898485041|\n",
            "|29035|     Edward Tures|            14.0| 3.688170394356435|\n",
            "|32405|     Henry Walton|            16.0|3.6798633702465344|\n",
            "|32198|  Raphael Mitchem|            52.0|3.6581260248766743|\n",
            "|22480|   Edwin Phillips|             1.0| 3.616765984304687|\n",
            "|31265|      Lee Wozniak|            12.0| 3.567876759496298|\n",
            "|31906|      James Davis|            76.0| 2.921448705344427|\n",
            "|31115|  Andrew Wojnicki|             3.0|2.8977680812447795|\n",
            "|31497|        John Zago|             7.0| 2.854126755117965|\n",
            "|19154|    Raymond Mills|             1.0|2.8217626334384858|\n",
            "|32314|     Jose Salazar|            43.0|  2.73908208998554|\n",
            "|29088|     Calvin Tyler|            15.0|2.7288507005639246|\n",
            "|30603|    Mark Wiktorek|            33.0|  2.66130252820775|\n",
            "|31563|Lawrence Zaragoza|            13.0|2.6132439788781268|\n",
            "|23375|    Mario Ramirez|            44.0| 2.589640092596013|\n",
            "|28353|   Lawrence Terry|             3.0|2.5717832717937323|\n",
            "|31027|      Sharon Wise|            15.0|2.5554550175224113|\n",
            "|32109|      Karen Konow|             7.0|2.5490785988665645|\n",
            "+-----+-----------------+----------------+------------------+\n",
            "only showing top 20 rows\n",
            "\n"
          ]
        }
      ]
    },
    {
      "cell_type": "markdown",
      "metadata": {
        "id": "PMRYP3yGzZ4e"
      },
      "source": [
        "**Message Passing using aggregateMessages()**"
      ]
    },
    {
      "cell_type": "code",
      "metadata": {
        "id": "gtzyNETZ2X6E",
        "outputId": "89702011-1e3b-4d08-b12e-95c68da7ba65",
        "colab": {
          "base_uri": "https://localhost:8080/"
        }
      },
      "source": [
        "from pyspark.sql.functions import sum as sqlsum\n",
        "from graphframes.lib import AggregateMessages as AM\n",
        "# from graphframes.examples import Graphs\n",
        "# g = Graphs(sqlContext).friends()  # Get example graph\n",
        "\n",
        "# For each user, sum the ages of the adjacent users.\n",
        "msgToSrc = AM.dst[\"allegation_count\"]\n",
        "msgToDst = AM.src[\"allegation_count\"]\n",
        "agg = cpdb.aggregateMessages(\n",
        "    sqlsum(AM.msg).alias(\"summedAllegations\"),\n",
        "    sendToSrc=msgToSrc,\n",
        "    sendToDst=msgToDst)\n",
        "\n",
        "agg.sort(['id'],ascending=True).show()"
      ],
      "execution_count": 46,
      "outputs": [
        {
          "output_type": "stream",
          "name": "stdout",
          "text": [
            "+---+-----------------+\n",
            "| id|summedAllegations|\n",
            "+---+-----------------+\n",
            "|  9|             13.0|\n",
            "| 17|            208.0|\n",
            "| 54|            309.0|\n",
            "| 59|            123.0|\n",
            "|117|            163.0|\n",
            "|156|            738.0|\n",
            "|160|            208.0|\n",
            "|197|             74.0|\n",
            "|198|            556.0|\n",
            "|200|           3734.0|\n",
            "|223|             86.0|\n",
            "|237|            416.0|\n",
            "|241|             16.0|\n",
            "|325|             77.0|\n",
            "|335|             11.0|\n",
            "|361|            460.0|\n",
            "|364|             32.0|\n",
            "|368|             16.0|\n",
            "|381|             16.0|\n",
            "|396|             14.0|\n",
            "+---+-----------------+\n",
            "only showing top 20 rows\n",
            "\n"
          ]
        }
      ]
    }
  ]
}