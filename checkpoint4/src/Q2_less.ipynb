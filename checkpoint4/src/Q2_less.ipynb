{
  "nbformat": 4,
  "nbformat_minor": 0,
  "metadata": {
    "colab": {
      "name": "Q2_less.ipynb",
      "provenance": [],
      "collapsed_sections": []
    },
    "kernelspec": {
      "name": "python3",
      "display_name": "Python 3"
    },
    "language_info": {
      "name": "python"
    }
  },
  "cells": [
    {
      "cell_type": "code",
      "metadata": {
        "colab": {
          "base_uri": "https://localhost:8080/"
        },
        "id": "ltqtPCY1xK8j",
        "outputId": "b6c92e17-e01b-41ad-930d-a5276be76726"
      },
      "source": [
        "# install java\n",
        "!apt-get install openjdk-8-jdk-headless -qq > /dev/null\n",
        "\n",
        "# install spark (change the version number if needed)\n",
        "!wget -q https://archive.apache.org/dist/spark/spark-3.2.0/spark-3.2.0-bin-hadoop3.2.tgz\n",
        "\n",
        "# unzip the spark file to the current folder\n",
        "!tar xf spark-3.2.0-bin-hadoop3.2.tgz\n",
        "\n",
        "# set your spark folder to your system path environment. \n",
        "import os\n",
        "os.environ[\"JAVA_HOME\"] = \"/usr/lib/jvm/java-8-openjdk-amd64\"\n",
        "os.environ[\"SPARK_HOME\"] = \"/content/spark-3.2.0-bin-hadoop3.2\"\n",
        "\n",
        "# install findspark using pip\n",
        "!pip install -q findspark\n",
        "\n",
        "# install pyspark\n",
        "!pip3 install pyspark==3.2.0\n",
        "\n",
        "# install graphframes\n",
        "!pip3 install graphframes"
      ],
      "execution_count": null,
      "outputs": [
        {
          "output_type": "stream",
          "name": "stdout",
          "text": [
            "Collecting pyspark==3.2.0\n",
            "  Downloading pyspark-3.2.0.tar.gz (281.3 MB)\n",
            "\u001b[K     |████████████████████████████████| 281.3 MB 39 kB/s \n",
            "\u001b[?25hCollecting py4j==0.10.9.2\n",
            "  Downloading py4j-0.10.9.2-py2.py3-none-any.whl (198 kB)\n",
            "\u001b[K     |████████████████████████████████| 198 kB 51.2 MB/s \n",
            "\u001b[?25hBuilding wheels for collected packages: pyspark\n",
            "  Building wheel for pyspark (setup.py) ... \u001b[?25l\u001b[?25hdone\n",
            "  Created wheel for pyspark: filename=pyspark-3.2.0-py2.py3-none-any.whl size=281805912 sha256=32be791c393da838612d511b653607cd3087b7bea1dc4051efe2afd305e27124\n",
            "  Stored in directory: /root/.cache/pip/wheels/0b/de/d2/9be5d59d7331c6c2a7c1b6d1a4f463ce107332b1ecd4e80718\n",
            "Successfully built pyspark\n",
            "Installing collected packages: py4j, pyspark\n",
            "Successfully installed py4j-0.10.9.2 pyspark-3.2.0\n",
            "Collecting graphframes\n",
            "  Downloading graphframes-0.6-py2.py3-none-any.whl (18 kB)\n",
            "Requirement already satisfied: numpy in /usr/local/lib/python3.7/dist-packages (from graphframes) (1.19.5)\n",
            "Collecting nose\n",
            "  Downloading nose-1.3.7-py3-none-any.whl (154 kB)\n",
            "\u001b[K     |████████████████████████████████| 154 kB 5.1 MB/s \n",
            "\u001b[?25hInstalling collected packages: nose, graphframes\n",
            "Successfully installed graphframes-0.6 nose-1.3.7\n"
          ]
        }
      ]
    },
    {
      "cell_type": "code",
      "metadata": {
        "id": "EcL7r9W2xY9J",
        "colab": {
          "base_uri": "https://localhost:8080/"
        },
        "outputId": "c3bdfb90-037e-45ad-9cba-8bd0a0357e42"
      },
      "source": [
        "!cp -v /content/graphframes-0.8.2-spark3.2-s_2.12.jar $SPARK_HOME/jars/"
      ],
      "execution_count": null,
      "outputs": [
        {
          "output_type": "stream",
          "name": "stdout",
          "text": [
            "'/content/graphframes-0.8.2-spark3.2-s_2.12.jar' -> '/content/spark-3.2.0-bin-hadoop3.2/jars/graphframes-0.8.2-spark3.2-s_2.12.jar'\n"
          ]
        }
      ]
    },
    {
      "cell_type": "code",
      "metadata": {
        "id": "PoDy9fjdzJFO"
      },
      "source": [
        "#import the packages\n",
        "from pyspark import *\n",
        "from pyspark.sql import *\n",
        "from graphframes import *\n",
        "import findspark\n",
        "import pandas as pd\n",
        "\n",
        "findspark.init()\n",
        "\n",
        "# Start a Spark session\n",
        "spark = SparkSession.builder.master(\"local[*]\").getOrCreate()"
      ],
      "execution_count": null,
      "outputs": []
    },
    {
      "cell_type": "code",
      "metadata": {
        "id": "7p59PWRlxctO",
        "colab": {
          "base_uri": "https://localhost:8080/"
        },
        "outputId": "b592ed2a-e187-4530-8217-e22f48bd06d4"
      },
      "source": [
        "import psycopg2"
      ],
      "execution_count": null,
      "outputs": [
        {
          "output_type": "stream",
          "name": "stderr",
          "text": [
            "/usr/local/lib/python3.7/dist-packages/psycopg2/__init__.py:144: UserWarning: The psycopg2 wheel package will be renamed from release 2.8; in order to keep installing from binary please use \"pip install psycopg2-binary\" instead. For details see: <http://initd.org/psycopg/docs/install.html#binary-install-from-pypi>.\n",
            "  \"\"\")\n"
          ]
        }
      ]
    },
    {
      "cell_type": "code",
      "metadata": {
        "id": "hcZLS3JaxfAn"
      },
      "source": [
        "# access the postgresql server\n",
        "conn = psycopg2.connect(\n",
        "    host=\"codd04.research.northwestern.edu\",\n",
        "    port = \"5433\",\n",
        "    database=\"postgres\",\n",
        "    user=\"cpdbstudent\",\n",
        "    password=\"DataSci4AI\")"
      ],
      "execution_count": null,
      "outputs": []
    },
    {
      "cell_type": "code",
      "metadata": {
        "id": "B95-t68Rxft8"
      },
      "source": [
        "cursor = conn.cursor()"
      ],
      "execution_count": null,
      "outputs": []
    },
    {
      "cell_type": "code",
      "metadata": {
        "id": "GSOsRx_kxiUG"
      },
      "source": [
        "# Selecting for officers with LESS than average number of award types \n",
        "edges_query = '''--Co-accusals of officers with DAM allegations earning less than average distinct award types\n",
        "DROP TABLE IF EXISTS award_count;\n",
        "CREATE TEMP TABLE award_count AS (\n",
        "    SELECT officer_id offid, count(award_type) num_awards\n",
        "    FROM data_award\n",
        "    WHERE data_award.officer_id IN\n",
        "                  (SELECT id\n",
        "                  FROM data_officer\n",
        "                  WHERE data_officer.id IN\n",
        "                    (SELECT officer_id\n",
        "                    FROM data_officerallegation\n",
        "                    WHERE data_officerallegation.allegation_category_id IN\n",
        "                      (SELECT id\n",
        "                      FROM data_allegationcategory\n",
        "                      WHERE data_allegationcategory.category = 'Drug / Alcohol Abuse' OR data_allegationcategory.category = 'Medical' or allegation_name LIKE 'Medical Roll%'\n",
        "                      OR data_allegationcategory.category_code IN ('024', '003', '003A', '003B', '003C', '003D', '003E'))))\n",
        "    group by officer_id);\n",
        "\n",
        "DROP TABLE IF EXISTS da_category_ids;\n",
        "CREATE TEMP TABLE da_category_ids AS (\n",
        "    SELECT id\n",
        "    FROM data_allegationcategory\n",
        "    WHERE data_allegationcategory.category = 'Drug / Alcohol Abuse' OR data_allegationcategory.category = 'Medical' or allegation_name LIKE 'Medical Roll%'\n",
        "    OR data_allegationcategory.category_code IN ('08J', '024', '003', '003A', '003B', '003C', '003D', '003E'));\n",
        "\n",
        "DROP TABLE IF EXISTS da_cohort;\n",
        "CREATE TEMP TABLE da_cohort AS (\n",
        "    SELECT DISTINCT officer_id\n",
        "    FROM data_officerallegation\n",
        "    WHERE allegation_category_id IN (SELECT * from da_category_ids));\n",
        "\n",
        "DELETE FROM da_cohort c\n",
        "USING award_count a WHERE a.offid = c.officer_id\n",
        "AND a.num_awards > (SELECT AVG(num_awards) FROM award_count);\n",
        "\n",
        "DROP TABLE IF EXISTS class_example;\n",
        "CREATE TEMP TABLE class_example AS (\n",
        "SELECT da1.officer_id src, da2.officer_id dst, COUNT(DISTINCT da1.allegation_id) relationship\n",
        "FROM data_officerallegation da1\n",
        "JOIN data_officerallegation da2 ON da1.allegation_id = da2.allegation_id AND da1.officer_id < da2.officer_id\n",
        "GROUP BY da1.officer_id, da2.officer_id ORDER BY count(*) DESC);\n",
        "\n",
        "DROP TABLE IF EXISTS edgesq2;\n",
        "CREATE TEMP TABLE edgesq2 AS (\n",
        "SELECT src,dst,relationship FROM class_example\n",
        "JOIN da_cohort ON da_cohort.officer_id = class_example.src);\n",
        "\n",
        "select * from edgesq2;\n",
        "'''"
      ],
      "execution_count": null,
      "outputs": []
    },
    {
      "cell_type": "code",
      "metadata": {
        "id": "RueP_lmBxlxs"
      },
      "source": [
        "# Selecting for officers with LESS than average number of award types \n",
        "nodes_query = '''--Co-accusals of officers with DAM allegations earning less than average distinct award types\n",
        "DROP TABLE IF EXISTS award_count;\n",
        "CREATE TEMP TABLE award_count AS (\n",
        "    SELECT officer_id offid, count(award_type) num_awards\n",
        "    FROM data_award\n",
        "    WHERE data_award.officer_id IN\n",
        "                  (SELECT id\n",
        "                  FROM data_officer\n",
        "                  WHERE data_officer.id IN\n",
        "                    (SELECT officer_id\n",
        "                    FROM data_officerallegation\n",
        "                    WHERE data_officerallegation.allegation_category_id IN\n",
        "                      (SELECT id\n",
        "                      FROM data_allegationcategory\n",
        "                      WHERE data_allegationcategory.category = 'Drug / Alcohol Abuse' OR data_allegationcategory.category = 'Medical' or allegation_name LIKE 'Medical Roll%'\n",
        "                      OR data_allegationcategory.category_code IN ('024', '003', '003A', '003B', '003C', '003D', '003E'))))\n",
        "    group by officer_id);\n",
        "\n",
        "DROP TABLE IF EXISTS da_category_ids;\n",
        "CREATE TEMP TABLE da_category_ids AS (\n",
        "    SELECT id\n",
        "    FROM data_allegationcategory\n",
        "    WHERE data_allegationcategory.category = 'Drug / Alcohol Abuse' OR data_allegationcategory.category = 'Medical' or allegation_name LIKE 'Medical Roll%'\n",
        "    OR data_allegationcategory.category_code IN ('08J', '024', '003', '003A', '003B', '003C', '003D', '003E'));\n",
        "\n",
        "DROP TABLE IF EXISTS da_cohort;\n",
        "CREATE TEMP TABLE da_cohort AS (\n",
        "    SELECT DISTINCT officer_id\n",
        "    FROM data_officerallegation\n",
        "    WHERE allegation_category_id IN (SELECT * from da_category_ids));\n",
        "\n",
        "DELETE FROM da_cohort c\n",
        "USING award_count a WHERE a.offid = c.officer_id\n",
        "AND a.num_awards > (SELECT AVG(num_awards) FROM award_count);\n",
        "\n",
        "DROP TABLE IF EXISTS class_example;\n",
        "CREATE TEMP TABLE class_example AS (\n",
        "SELECT da1.officer_id src, da2.officer_id dst, COUNT(DISTINCT da1.allegation_id) relationship\n",
        "FROM data_officerallegation da1\n",
        "JOIN data_officerallegation da2 ON da1.allegation_id = da2.allegation_id AND da1.officer_id < da2.officer_id\n",
        "GROUP BY da1.officer_id, da2.officer_id ORDER BY count(*) DESC);\n",
        "\n",
        "DROP TABLE IF EXISTS edgesq2;\n",
        "CREATE TEMP TABLE edgesq2 AS (\n",
        "SELECT src,dst,relationship FROM class_example\n",
        "JOIN da_cohort ON da_cohort.officer_id = class_example.src);\n",
        "\n",
        "select * from edgesq2;\n",
        "\n",
        "DROP TABLE IF EXISTS withoutRelation;\n",
        "CREATE TEMP TABLE withoutRelation AS (\n",
        "select id,first_name || ' ' || last_name officer_name from data_officer where id in\n",
        "(select src from edgesq2) and id in (select dst from edgesq2));\n",
        "\n",
        "DROP TABLE IF EXISTS award_count;\n",
        "CREATE TEMP TABLE award_count AS (\n",
        "    SELECT officer_id offid, count(award_type) num_awards\n",
        "    FROM data_award\n",
        "    WHERE data_award.officer_id IN\n",
        "                  (SELECT id\n",
        "                  FROM data_officer\n",
        "                  WHERE data_officer.id IN\n",
        "                    (SELECT officer_id\n",
        "                    FROM data_officerallegation\n",
        "                    WHERE data_officerallegation.allegation_category_id IN\n",
        "                      (SELECT id\n",
        "                      FROM data_allegationcategory\n",
        "                      WHERE data_allegationcategory.category = 'Drug / Alcohol Abuse' OR data_allegationcategory.category = 'Medical' or allegation_name LIKE 'Medical Roll%'\n",
        "                      OR data_allegationcategory.category_code IN ('024', '003', '003A', '003B', '003C', '003D', '003E'))))\n",
        "    group by officer_id);\n",
        "\n",
        "\n",
        "select withoutRelation.id,withoutRelation.officer_name,award_count.num_awards from withoutRelation\n",
        "join award_count on withoutRelation.id=award_count.offid;\n",
        "\n",
        "\n",
        "'''"
      ],
      "execution_count": null,
      "outputs": []
    },
    {
      "cell_type": "code",
      "metadata": {
        "id": "3cPFWTgvyW4c"
      },
      "source": [
        "import pandas as pd"
      ],
      "execution_count": null,
      "outputs": []
    },
    {
      "cell_type": "code",
      "metadata": {
        "id": "RS2ICKRFyNw1",
        "colab": {
          "base_uri": "https://localhost:8080/"
        },
        "outputId": "80dca592-6b58-48b8-f41c-23f33b2581d0"
      },
      "source": [
        "cursor.execute(edges_query)\n",
        "edges = cursor.fetchall()\n",
        "print(\"shape is: \" + str(len(edges))) # 17465\n",
        "\n",
        "df_edges = pd.DataFrame(edges)\n",
        "colnames = [desc[0] for desc in cursor.description]\n",
        "df_edges.columns = colnames\n",
        "\n",
        "print(df_edges)"
      ],
      "execution_count": null,
      "outputs": [
        {
          "output_type": "stream",
          "name": "stdout",
          "text": [
            "shape is: 17399\n",
            "         src    dst  relationship\n",
            "0          9  12641             1\n",
            "1         17  26456             2\n",
            "2         17  10656             2\n",
            "3         17  22523             1\n",
            "4         17  20246             1\n",
            "...      ...    ...           ...\n",
            "17394  32289  32405             1\n",
            "17395  32289  32431             1\n",
            "17396  32397  32419             1\n",
            "17397  32397  32406             1\n",
            "17398  32527  33722             2\n",
            "\n",
            "[17399 rows x 3 columns]\n"
          ]
        }
      ]
    },
    {
      "cell_type": "code",
      "metadata": {
        "id": "9OXB2t7EzUD1",
        "colab": {
          "base_uri": "https://localhost:8080/"
        },
        "outputId": "0926ee43-7d8f-4a1f-9d41-07715e7dd834"
      },
      "source": [
        "cursor.execute(nodes_query)\n",
        "nodes = cursor.fetchall()\n",
        "print(\"shape is: \" + str(len(nodes))) # 17465\n",
        "\n",
        "df_nodes = pd.DataFrame(nodes)\n",
        "colnames = [desc[0] for desc in cursor.description]\n",
        "df_nodes.columns = colnames\n",
        "\n",
        "print(df_nodes)"
      ],
      "execution_count": null,
      "outputs": [
        {
          "output_type": "stream",
          "name": "stdout",
          "text": [
            "shape is: 204\n",
            "        id          officer_name  num_awards\n",
            "0     1907        William Bertha          12\n",
            "1     2735  Charles Breckenridge           6\n",
            "2     2941         Deborah Brown           1\n",
            "3     3087           Henry Brown          12\n",
            "4     3927         Glenn Carlson           2\n",
            "..     ...                   ...         ...\n",
            "199  30652      Edward Wilkowski          10\n",
            "200  30653            Alan Wilks           1\n",
            "201  30952            Sam Wilson          10\n",
            "202  31464         Michael Ytsen          15\n",
            "203  32188       Elmore Metcalfe          17\n",
            "\n",
            "[204 rows x 3 columns]\n"
          ]
        }
      ]
    },
    {
      "cell_type": "code",
      "metadata": {
        "id": "R8emHtixy9WL"
      },
      "source": [
        "edges_ = spark.createDataFrame(df_edges)"
      ],
      "execution_count": null,
      "outputs": []
    },
    {
      "cell_type": "code",
      "metadata": {
        "id": "nJWl6Qdby_gt"
      },
      "source": [
        "nodes = spark.createDataFrame(df_nodes)"
      ],
      "execution_count": null,
      "outputs": []
    },
    {
      "cell_type": "code",
      "metadata": {
        "id": "gr1MqtFmzmoI"
      },
      "source": [
        "cpdb = GraphFrame(nodes, edges_)"
      ],
      "execution_count": null,
      "outputs": []
    },
    {
      "cell_type": "code",
      "metadata": {
        "id": "ECa_nNmnzoZq",
        "colab": {
          "base_uri": "https://localhost:8080/"
        },
        "outputId": "d5adf97a-4052-4948-b84e-8f801a12a8bd"
      },
      "source": [
        "cpdb.vertices.show()"
      ],
      "execution_count": null,
      "outputs": [
        {
          "output_type": "stream",
          "name": "stdout",
          "text": [
            "+----+--------------------+----------+\n",
            "|  id|        officer_name|num_awards|\n",
            "+----+--------------------+----------+\n",
            "|1907|      William Bertha|        12|\n",
            "|2735|Charles Breckenridge|         6|\n",
            "|2941|       Deborah Brown|         1|\n",
            "|3087|         Henry Brown|        12|\n",
            "|3927|       Glenn Carlson|         2|\n",
            "|4233|      John Catanzara|        12|\n",
            "|4249|     Alonzo Caudillo|         1|\n",
            "|4554|       Walter Chodor|         1|\n",
            "|4715|      William Clancy|        13|\n",
            "|4880|          Shawn Cobb|        12|\n",
            "|4881|        Gilbert Cobb|         3|\n",
            "|5170|    Gregory Connelly|        18|\n",
            "|5404|      George Cornish|         5|\n",
            "|5513|        James Cotton|         6|\n",
            "|5683|        Victor Creed|         1|\n",
            "|5820|          Jimmy Cruz|         1|\n",
            "|6276|       Quinton Davis|        12|\n",
            "|6400|        Quadir Dawan|        20|\n",
            "|6618|     Aaron Del Valle|        15|\n",
            "|6996|       Vincent Dixon|        17|\n",
            "+----+--------------------+----------+\n",
            "only showing top 20 rows\n",
            "\n"
          ]
        }
      ]
    },
    {
      "cell_type": "code",
      "metadata": {
        "id": "Y2GxzF5Ezwih",
        "colab": {
          "base_uri": "https://localhost:8080/"
        },
        "outputId": "ed8c82eb-39f7-4185-955b-a2dcf5424d5e"
      },
      "source": [
        "cpdb.edges.show()"
      ],
      "execution_count": null,
      "outputs": [
        {
          "output_type": "stream",
          "name": "stdout",
          "text": [
            "+---+-----+------------+\n",
            "|src|  dst|relationship|\n",
            "+---+-----+------------+\n",
            "|  9|12641|           1|\n",
            "| 17|26456|           2|\n",
            "| 17|10656|           2|\n",
            "| 17|22523|           1|\n",
            "| 17|20246|           1|\n",
            "| 17|15351|           1|\n",
            "| 17|12521|           1|\n",
            "| 17| 9373|           1|\n",
            "| 17| 6885|           1|\n",
            "| 17| 4494|           1|\n",
            "| 17|32102|           1|\n",
            "| 17|28925|           1|\n",
            "| 17|27976|           1|\n",
            "| 54|27802|           1|\n",
            "| 54|29189|           1|\n",
            "| 54|30398|           1|\n",
            "| 54|31550|           1|\n",
            "| 54|31756|           1|\n",
            "| 54| 4168|           1|\n",
            "| 54|11252|           1|\n",
            "+---+-----+------------+\n",
            "only showing top 20 rows\n",
            "\n"
          ]
        }
      ]
    },
    {
      "cell_type": "code",
      "metadata": {
        "id": "W1pU20x9zzAU",
        "colab": {
          "base_uri": "https://localhost:8080/"
        },
        "outputId": "80826fa9-5d94-48f2-b2dd-41b0049147ad"
      },
      "source": [
        "cpdb.vertices.sort(['id'],ascending=True).show()"
      ],
      "execution_count": null,
      "outputs": [
        {
          "output_type": "stream",
          "name": "stdout",
          "text": [
            "+----+--------------------+----------+\n",
            "|  id|        officer_name|num_awards|\n",
            "+----+--------------------+----------+\n",
            "|1907|      William Bertha|        12|\n",
            "|2735|Charles Breckenridge|         6|\n",
            "|2941|       Deborah Brown|         1|\n",
            "|3087|         Henry Brown|        12|\n",
            "|3927|       Glenn Carlson|         2|\n",
            "|4233|      John Catanzara|        12|\n",
            "|4249|     Alonzo Caudillo|         1|\n",
            "|4554|       Walter Chodor|         1|\n",
            "|4715|      William Clancy|        13|\n",
            "|4880|          Shawn Cobb|        12|\n",
            "|4881|        Gilbert Cobb|         3|\n",
            "|5170|    Gregory Connelly|        18|\n",
            "|5404|      George Cornish|         5|\n",
            "|5513|        James Cotton|         6|\n",
            "|5683|        Victor Creed|         1|\n",
            "|5820|          Jimmy Cruz|         1|\n",
            "|6276|       Quinton Davis|        12|\n",
            "|6400|        Quadir Dawan|        20|\n",
            "|6618|     Aaron Del Valle|        15|\n",
            "|6996|       Vincent Dixon|        17|\n",
            "+----+--------------------+----------+\n",
            "only showing top 20 rows\n",
            "\n"
          ]
        }
      ]
    },
    {
      "cell_type": "code",
      "metadata": {
        "id": "CTcT_BSXz4Nq",
        "colab": {
          "base_uri": "https://localhost:8080/"
        },
        "outputId": "0b8a835e-58ae-49ca-facc-5907adb031b7"
      },
      "source": [
        "pr_cpdb = cpdb.pageRank(resetProbability=0.15, tol=0.01)\n",
        "#look at the pagerank score for every vertex\n",
        "pr_cpdb.vertices.orderBy('pagerank', ascending=False).show()\n",
        "pr_cpdb.edges.show()"
      ],
      "execution_count": null,
      "outputs": [
        {
          "output_type": "stream",
          "name": "stdout",
          "text": [
            "+-----+-------------------+----------+------------------+\n",
            "|   id|       officer_name|num_awards|          pagerank|\n",
            "+-----+-------------------+----------+------------------+\n",
            "|31464|      Michael Ytsen|        15|2.0803279453002217|\n",
            "|17964|  Michael Mc Carthy|        13| 1.910639575934099|\n",
            "|27442|      Scott Stehlik|        11|1.8928392785739436|\n",
            "|18359|     John Mc Knight|        13| 1.804237365395038|\n",
            "|12641|     Charles Howard|        13|1.7209128686438844|\n",
            "| 9713|         Gary Gaski|         1|1.6844792794109509|\n",
            "|29668|      Dean Vitulski|        15|1.6721654236222592|\n",
            "|23410|      Raphael Ramos|        15| 1.667130229111527|\n",
            "| 7597|     Patrick Durkin|        19|1.6447051684758143|\n",
            "|29056|     Charles Turner|         1| 1.633025278576153|\n",
            "|13270|    Jason Jankowski|        19| 1.633025278576153|\n",
            "|30313|        George Weir|        14| 1.633025278576153|\n",
            "|28580|      Edward Tiedje|         3| 1.633025278576153|\n",
            "|22751|Sterling Poindexter|         1| 1.633025278576153|\n",
            "|19750|       Edward Moses|        14| 1.633025278576153|\n",
            "|30173|      Andre Watkins|        15|1.6247974685466495|\n",
            "|24416|  Michael Rodriguez|         2|1.5031072788039452|\n",
            "|24016|    Michael Riordan|        14| 1.491715912617793|\n",
            "|29207|    Joseph Vaclavik|         9| 1.370930290385305|\n",
            "|29848|      Garvey Walker|         3|1.3664850229610375|\n",
            "+-----+-------------------+----------+------------------+\n",
            "only showing top 20 rows\n",
            "\n",
            "+----+-----+------------+--------------------+\n",
            "| src|  dst|relationship|              weight|\n",
            "+----+-----+------------+--------------------+\n",
            "| 198|10269|           1|0.038461538461538464|\n",
            "| 200| 6346|           1| 0.00411522633744856|\n",
            "| 200|29882|           1| 0.00411522633744856|\n",
            "| 597|16746|           1|0.006024096385542169|\n",
            "| 597|29782|           1|0.006024096385542169|\n",
            "| 882| 8426|           1|0.041666666666666664|\n",
            "| 927|30211|           1|0.006172839506172839|\n",
            "|1111| 1211|           1|0.034482758620689655|\n",
            "|1256|10250|           1| 0.03571428571428571|\n",
            "|1649|26121|           1|0.005952380952380952|\n",
            "|1907|24013|           1|0.004926108374384...|\n",
            "|2269|32206|           2|0.041666666666666664|\n",
            "|2802|25890|           1|0.047619047619047616|\n",
            "|2809|19969|           1|0.013157894736842105|\n",
            "|3026|23036|           1|0.023809523809523808|\n",
            "|3337|31966|           4|0.041666666666666664|\n",
            "|3520|25740|           1|0.027777777777777776|\n",
            "|4807| 4836|           2| 0.03333333333333333|\n",
            "|5683|31167|           1|0.006289308176100629|\n",
            "|5780|17720|           1|0.041666666666666664|\n",
            "+----+-----+------------+--------------------+\n",
            "only showing top 20 rows\n",
            "\n"
          ]
        }
      ]
    }
  ]
}