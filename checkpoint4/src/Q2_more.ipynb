{
  "nbformat": 4,
  "nbformat_minor": 0,
  "metadata": {
    "colab": {
      "name": "Q2_more.ipynb",
      "provenance": [],
      "collapsed_sections": []
    },
    "kernelspec": {
      "name": "python3",
      "display_name": "Python 3"
    },
    "language_info": {
      "name": "python"
    }
  },
  "cells": [
    {
      "cell_type": "code",
      "metadata": {
        "colab": {
          "base_uri": "https://localhost:8080/"
        },
        "id": "ltqtPCY1xK8j",
        "outputId": "b6c92e17-e01b-41ad-930d-a5276be76726"
      },
      "source": [
        "# install java\n",
        "!apt-get install openjdk-8-jdk-headless -qq > /dev/null\n",
        "\n",
        "# install spark (change the version number if needed)\n",
        "!wget -q https://archive.apache.org/dist/spark/spark-3.2.0/spark-3.2.0-bin-hadoop3.2.tgz\n",
        "\n",
        "# unzip the spark file to the current folder\n",
        "!tar xf spark-3.2.0-bin-hadoop3.2.tgz\n",
        "\n",
        "# set your spark folder to your system path environment. \n",
        "import os\n",
        "os.environ[\"JAVA_HOME\"] = \"/usr/lib/jvm/java-8-openjdk-amd64\"\n",
        "os.environ[\"SPARK_HOME\"] = \"/content/spark-3.2.0-bin-hadoop3.2\"\n",
        "\n",
        "# install findspark using pip\n",
        "!pip install -q findspark\n",
        "\n",
        "# install pyspark\n",
        "!pip3 install pyspark==3.2.0\n",
        "\n",
        "# install graphframes\n",
        "!pip3 install graphframes"
      ],
      "execution_count": null,
      "outputs": [
        {
          "output_type": "stream",
          "name": "stdout",
          "text": [
            "Collecting pyspark==3.2.0\n",
            "  Downloading pyspark-3.2.0.tar.gz (281.3 MB)\n",
            "\u001b[K     |████████████████████████████████| 281.3 MB 39 kB/s \n",
            "\u001b[?25hCollecting py4j==0.10.9.2\n",
            "  Downloading py4j-0.10.9.2-py2.py3-none-any.whl (198 kB)\n",
            "\u001b[K     |████████████████████████████████| 198 kB 51.2 MB/s \n",
            "\u001b[?25hBuilding wheels for collected packages: pyspark\n",
            "  Building wheel for pyspark (setup.py) ... \u001b[?25l\u001b[?25hdone\n",
            "  Created wheel for pyspark: filename=pyspark-3.2.0-py2.py3-none-any.whl size=281805912 sha256=32be791c393da838612d511b653607cd3087b7bea1dc4051efe2afd305e27124\n",
            "  Stored in directory: /root/.cache/pip/wheels/0b/de/d2/9be5d59d7331c6c2a7c1b6d1a4f463ce107332b1ecd4e80718\n",
            "Successfully built pyspark\n",
            "Installing collected packages: py4j, pyspark\n",
            "Successfully installed py4j-0.10.9.2 pyspark-3.2.0\n",
            "Collecting graphframes\n",
            "  Downloading graphframes-0.6-py2.py3-none-any.whl (18 kB)\n",
            "Requirement already satisfied: numpy in /usr/local/lib/python3.7/dist-packages (from graphframes) (1.19.5)\n",
            "Collecting nose\n",
            "  Downloading nose-1.3.7-py3-none-any.whl (154 kB)\n",
            "\u001b[K     |████████████████████████████████| 154 kB 5.1 MB/s \n",
            "\u001b[?25hInstalling collected packages: nose, graphframes\n",
            "Successfully installed graphframes-0.6 nose-1.3.7\n"
          ]
        }
      ]
    },
    {
      "cell_type": "code",
      "metadata": {
        "id": "EcL7r9W2xY9J",
        "colab": {
          "base_uri": "https://localhost:8080/"
        },
        "outputId": "c3bdfb90-037e-45ad-9cba-8bd0a0357e42"
      },
      "source": [
        "!cp -v /content/graphframes-0.8.2-spark3.2-s_2.12.jar $SPARK_HOME/jars/"
      ],
      "execution_count": null,
      "outputs": [
        {
          "output_type": "stream",
          "name": "stdout",
          "text": [
            "'/content/graphframes-0.8.2-spark3.2-s_2.12.jar' -> '/content/spark-3.2.0-bin-hadoop3.2/jars/graphframes-0.8.2-spark3.2-s_2.12.jar'\n"
          ]
        }
      ]
    },
    {
      "cell_type": "code",
      "metadata": {
        "id": "PoDy9fjdzJFO"
      },
      "source": [
        "#import the packages\n",
        "from pyspark import *\n",
        "from pyspark.sql import *\n",
        "from graphframes import *\n",
        "import findspark\n",
        "import pandas as pd\n",
        "\n",
        "findspark.init()\n",
        "\n",
        "# Start a Spark session\n",
        "spark = SparkSession.builder.master(\"local[*]\").getOrCreate()"
      ],
      "execution_count": null,
      "outputs": []
    },
    {
      "cell_type": "code",
      "metadata": {
        "id": "7p59PWRlxctO",
        "colab": {
          "base_uri": "https://localhost:8080/"
        },
        "outputId": "b592ed2a-e187-4530-8217-e22f48bd06d4"
      },
      "source": [
        "import psycopg2"
      ],
      "execution_count": null,
      "outputs": [
        {
          "output_type": "stream",
          "name": "stderr",
          "text": [
            "/usr/local/lib/python3.7/dist-packages/psycopg2/__init__.py:144: UserWarning: The psycopg2 wheel package will be renamed from release 2.8; in order to keep installing from binary please use \"pip install psycopg2-binary\" instead. For details see: <http://initd.org/psycopg/docs/install.html#binary-install-from-pypi>.\n",
            "  \"\"\")\n"
          ]
        }
      ]
    },
    {
      "cell_type": "code",
      "metadata": {
        "id": "hcZLS3JaxfAn"
      },
      "source": [
        "# access the postgresql server\n",
        "conn = psycopg2.connect(\n",
        "    host=\"codd04.research.northwestern.edu\",\n",
        "    port = \"5433\",\n",
        "    database=\"postgres\",\n",
        "    user=\"cpdbstudent\",\n",
        "    password=\"DataSci4AI\")"
      ],
      "execution_count": null,
      "outputs": []
    },
    {
      "cell_type": "code",
      "metadata": {
        "id": "B95-t68Rxft8"
      },
      "source": [
        "cursor = conn.cursor()"
      ],
      "execution_count": null,
      "outputs": []
    },
    {
      "cell_type": "code",
      "metadata": {
        "id": "GSOsRx_kxiUG"
      },
      "source": [
        "# Selecting for officers with GREATER than average number of award types \n",
        "edges_query = '''--Co-accusals of officers with DAM allegations earning less than average distinct award types\n",
        "DROP TABLE IF EXISTS award_count;\n",
        "CREATE TEMP TABLE award_count AS (\n",
        "    SELECT officer_id offid, count(award_type) num_awards\n",
        "    FROM data_award\n",
        "    WHERE data_award.officer_id IN\n",
        "                  (SELECT id\n",
        "                  FROM data_officer\n",
        "                  WHERE data_officer.id IN\n",
        "                    (SELECT officer_id\n",
        "                    FROM data_officerallegation\n",
        "                    WHERE data_officerallegation.allegation_category_id IN\n",
        "                      (SELECT id\n",
        "                      FROM data_allegationcategory\n",
        "                      WHERE data_allegationcategory.category = 'Drug / Alcohol Abuse' OR data_allegationcategory.category = 'Medical' or allegation_name LIKE 'Medical Roll%'\n",
        "                      OR data_allegationcategory.category_code IN ('024', '003', '003A', '003B', '003C', '003D', '003E'))))\n",
        "    group by officer_id);\n",
        "\n",
        "DROP TABLE IF EXISTS da_category_ids;\n",
        "CREATE TEMP TABLE da_category_ids AS (\n",
        "    SELECT id\n",
        "    FROM data_allegationcategory\n",
        "    WHERE data_allegationcategory.category = 'Drug / Alcohol Abuse' OR data_allegationcategory.category = 'Medical' or allegation_name LIKE 'Medical Roll%'\n",
        "    OR data_allegationcategory.category_code IN ('08J', '024', '003', '003A', '003B', '003C', '003D', '003E'));\n",
        "\n",
        "DROP TABLE IF EXISTS da_cohort;\n",
        "CREATE TEMP TABLE da_cohort AS (\n",
        "    SELECT DISTINCT officer_id\n",
        "    FROM data_officerallegation\n",
        "    WHERE allegation_category_id IN (SELECT * from da_category_ids));\n",
        "\n",
        "DELETE FROM da_cohort c\n",
        "USING award_count a WHERE a.offid = c.officer_id\n",
        "AND a.num_awards < (SELECT AVG(num_awards) FROM award_count);\n",
        "\n",
        "DROP TABLE IF EXISTS class_example;\n",
        "CREATE TEMP TABLE class_example AS (\n",
        "SELECT da1.officer_id src, da2.officer_id dst, COUNT(DISTINCT da1.allegation_id) relationship\n",
        "FROM data_officerallegation da1\n",
        "JOIN data_officerallegation da2 ON da1.allegation_id = da2.allegation_id AND da1.officer_id < da2.officer_id\n",
        "GROUP BY da1.officer_id, da2.officer_id ORDER BY count(*) DESC);\n",
        "\n",
        "DROP TABLE IF EXISTS edgesq2;\n",
        "CREATE TEMP TABLE edgesq2 AS (\n",
        "SELECT src,dst,relationship FROM class_example\n",
        "JOIN da_cohort ON da_cohort.officer_id = class_example.src);\n",
        "\n",
        "select * from edgesq2;\n",
        "'''"
      ],
      "execution_count": null,
      "outputs": []
    },
    {
      "cell_type": "code",
      "metadata": {
        "id": "RueP_lmBxlxs"
      },
      "source": [
        "# Selecting for officers with GREATER than average number of award types \n",
        "nodes_query = '''--Co-accusals of officers with DAM allegations earning less than average distinct award types\n",
        "DROP TABLE IF EXISTS award_count;\n",
        "CREATE TEMP TABLE award_count AS (\n",
        "    SELECT officer_id offid, count(award_type) num_awards\n",
        "    FROM data_award\n",
        "    WHERE data_award.officer_id IN\n",
        "                  (SELECT id\n",
        "                  FROM data_officer\n",
        "                  WHERE data_officer.id IN\n",
        "                    (SELECT officer_id\n",
        "                    FROM data_officerallegation\n",
        "                    WHERE data_officerallegation.allegation_category_id IN\n",
        "                      (SELECT id\n",
        "                      FROM data_allegationcategory\n",
        "                      WHERE data_allegationcategory.category = 'Drug / Alcohol Abuse' OR data_allegationcategory.category = 'Medical' or allegation_name LIKE 'Medical Roll%'\n",
        "                      OR data_allegationcategory.category_code IN ('024', '003', '003A', '003B', '003C', '003D', '003E'))))\n",
        "    group by officer_id);\n",
        "\n",
        "DROP TABLE IF EXISTS da_category_ids;\n",
        "CREATE TEMP TABLE da_category_ids AS (\n",
        "    SELECT id\n",
        "    FROM data_allegationcategory\n",
        "    WHERE data_allegationcategory.category = 'Drug / Alcohol Abuse' OR data_allegationcategory.category = 'Medical' or allegation_name LIKE 'Medical Roll%'\n",
        "    OR data_allegationcategory.category_code IN ('08J', '024', '003', '003A', '003B', '003C', '003D', '003E'));\n",
        "\n",
        "DROP TABLE IF EXISTS da_cohort;\n",
        "CREATE TEMP TABLE da_cohort AS (\n",
        "    SELECT DISTINCT officer_id\n",
        "    FROM data_officerallegation\n",
        "    WHERE allegation_category_id IN (SELECT * from da_category_ids));\n",
        "\n",
        "DELETE FROM da_cohort c\n",
        "USING award_count a WHERE a.offid = c.officer_id\n",
        "AND a.num_awards < (SELECT AVG(num_awards) FROM award_count);\n",
        "\n",
        "DROP TABLE IF EXISTS class_example;\n",
        "CREATE TEMP TABLE class_example AS (\n",
        "SELECT da1.officer_id src, da2.officer_id dst, COUNT(DISTINCT da1.allegation_id) relationship\n",
        "FROM data_officerallegation da1\n",
        "JOIN data_officerallegation da2 ON da1.allegation_id = da2.allegation_id AND da1.officer_id < da2.officer_id\n",
        "GROUP BY da1.officer_id, da2.officer_id ORDER BY count(*) DESC);\n",
        "\n",
        "DROP TABLE IF EXISTS edgesq2;\n",
        "CREATE TEMP TABLE edgesq2 AS (\n",
        "SELECT src,dst,relationship FROM class_example\n",
        "JOIN da_cohort ON da_cohort.officer_id = class_example.src);\n",
        "\n",
        "select * from edgesq2;\n",
        "\n",
        "DROP TABLE IF EXISTS withoutRelation;\n",
        "CREATE TEMP TABLE withoutRelation AS (\n",
        "select id,first_name || ' ' || last_name officer_name from data_officer where id in\n",
        "(select src from edgesq2) and id in (select dst from edgesq2));\n",
        "\n",
        "DROP TABLE IF EXISTS award_count;\n",
        "CREATE TEMP TABLE award_count AS (\n",
        "    SELECT officer_id offid, count(award_type) num_awards\n",
        "    FROM data_award\n",
        "    WHERE data_award.officer_id IN\n",
        "                  (SELECT id\n",
        "                  FROM data_officer\n",
        "                  WHERE data_officer.id IN\n",
        "                    (SELECT officer_id\n",
        "                    FROM data_officerallegation\n",
        "                    WHERE data_officerallegation.allegation_category_id IN\n",
        "                      (SELECT id\n",
        "                      FROM data_allegationcategory\n",
        "                      WHERE data_allegationcategory.category = 'Drug / Alcohol Abuse' OR data_allegationcategory.category = 'Medical' or allegation_name LIKE 'Medical Roll%'\n",
        "                      OR data_allegationcategory.category_code IN ('024', '003', '003A', '003B', '003C', '003D', '003E'))))\n",
        "    group by officer_id);\n",
        "\n",
        "\n",
        "select withoutRelation.id,withoutRelation.officer_name,award_count.num_awards from withoutRelation\n",
        "join award_count on withoutRelation.id=award_count.offid;\n",
        "\n",
        "\n",
        "'''"
      ],
      "execution_count": null,
      "outputs": []
    },
    {
      "cell_type": "code",
      "metadata": {
        "id": "3cPFWTgvyW4c"
      },
      "source": [
        "import pandas as pd"
      ],
      "execution_count": null,
      "outputs": []
    },
    {
      "cell_type": "code",
      "metadata": {
        "id": "RS2ICKRFyNw1",
        "colab": {
          "base_uri": "https://localhost:8080/"
        },
        "outputId": "20d384cf-7795-487e-a92b-a78da11f9c07"
      },
      "source": [
        "cursor.execute(edges_query)\n",
        "edges = cursor.fetchall()\n",
        "print(\"shape is: \" + str(len(edges))) # 17465\n",
        "\n",
        "df_edges = pd.DataFrame(edges)\n",
        "colnames = [desc[0] for desc in cursor.description]\n",
        "df_edges.columns = colnames\n",
        "\n",
        "print(df_edges)"
      ],
      "execution_count": null,
      "outputs": [
        {
          "output_type": "stream",
          "name": "stdout",
          "text": [
            "shape is: 14338\n",
            "         src    dst  relationship\n",
            "0          9  12641             1\n",
            "1         54  27802             1\n",
            "2         54  29189             1\n",
            "3         54  30398             1\n",
            "4         54  31550             1\n",
            "...      ...    ...           ...\n",
            "14333  32346  32361             3\n",
            "14334  32346  32351             2\n",
            "14335  32346  32377             3\n",
            "14336  32397  32419             1\n",
            "14337  32397  32406             1\n",
            "\n",
            "[14338 rows x 3 columns]\n"
          ]
        }
      ]
    },
    {
      "cell_type": "code",
      "metadata": {
        "id": "9OXB2t7EzUD1",
        "colab": {
          "base_uri": "https://localhost:8080/"
        },
        "outputId": "e11a1e3b-ded2-47a2-91de-d9257362a1e6"
      },
      "source": [
        "cursor.execute(nodes_query)\n",
        "nodes = cursor.fetchall()\n",
        "print(\"shape is: \" + str(len(nodes))) # 17465\n",
        "\n",
        "df_nodes = pd.DataFrame(nodes)\n",
        "colnames = [desc[0] for desc in cursor.description]\n",
        "df_nodes.columns = colnames\n",
        "\n",
        "print(df_nodes)"
      ],
      "execution_count": null,
      "outputs": [
        {
          "output_type": "stream",
          "name": "stdout",
          "text": [
            "shape is: 127\n",
            "        id       officer_name  num_awards\n",
            "0     2397      Rudolph Booth          27\n",
            "1     3965  Anthony Carothers          26\n",
            "2     4102       Frank Casale          33\n",
            "3     4987    Garland Coleman          90\n",
            "4     5094        Dean Coltri          66\n",
            "..     ...                ...         ...\n",
            "122  32069       Andrew Janik         177\n",
            "123  32091        Skip Katich          73\n",
            "124  32178       Brian Mchale          72\n",
            "125  32181       Paul Meagher          49\n",
            "126  32346         Mark Smith          59\n",
            "\n",
            "[127 rows x 3 columns]\n"
          ]
        }
      ]
    },
    {
      "cell_type": "code",
      "metadata": {
        "id": "R8emHtixy9WL"
      },
      "source": [
        "edges_ = spark.createDataFrame(df_edges)"
      ],
      "execution_count": null,
      "outputs": []
    },
    {
      "cell_type": "code",
      "metadata": {
        "id": "nJWl6Qdby_gt"
      },
      "source": [
        "nodes = spark.createDataFrame(df_nodes)"
      ],
      "execution_count": null,
      "outputs": []
    },
    {
      "cell_type": "code",
      "metadata": {
        "id": "gr1MqtFmzmoI"
      },
      "source": [
        "cpdb = GraphFrame(nodes, edges_)"
      ],
      "execution_count": null,
      "outputs": []
    },
    {
      "cell_type": "code",
      "metadata": {
        "id": "ECa_nNmnzoZq",
        "colab": {
          "base_uri": "https://localhost:8080/"
        },
        "outputId": "9b17a542-3acf-47df-9ea5-70079722ed33"
      },
      "source": [
        "cpdb.vertices.show()"
      ],
      "execution_count": null,
      "outputs": [
        {
          "output_type": "stream",
          "name": "stdout",
          "text": [
            "+----+-----------------+----------+\n",
            "|  id|     officer_name|num_awards|\n",
            "+----+-----------------+----------+\n",
            "|2397|    Rudolph Booth|        27|\n",
            "|3965|Anthony Carothers|        26|\n",
            "|4102|     Frank Casale|        33|\n",
            "|4987|  Garland Coleman|        90|\n",
            "|5094|      Dean Coltri|        66|\n",
            "|5158|    John Conneely|        41|\n",
            "|5205|    Kevin Connors|        33|\n",
            "|5293|     Carlton Cook|        22|\n",
            "|5568|         Carl Cox|        22|\n",
            "|5893|  Robert Cummings|       106|\n",
            "|6088|      Sean Dailey|        61|\n",
            "|6313|       Eric Davis|        23|\n",
            "|6523|    Michael Deane|        26|\n",
            "|7160|  William Donovan|        22|\n",
            "|7698|      Barry Earls|       180|\n",
            "|8245|      James Farah|        22|\n",
            "|8457|     Vincent Fico|        63|\n",
            "|8762| Theodore Floodas|        50|\n",
            "|8799|    Samuel Flores|        26|\n",
            "|8887|    John Folliard|        77|\n",
            "+----+-----------------+----------+\n",
            "only showing top 20 rows\n",
            "\n"
          ]
        }
      ]
    },
    {
      "cell_type": "code",
      "metadata": {
        "id": "Y2GxzF5Ezwih",
        "colab": {
          "base_uri": "https://localhost:8080/"
        },
        "outputId": "3f9a1b59-faf5-4e0c-8a76-334225016d70"
      },
      "source": [
        "cpdb.edges.show()"
      ],
      "execution_count": null,
      "outputs": [
        {
          "output_type": "stream",
          "name": "stdout",
          "text": [
            "+---+-----+------------+\n",
            "|src|  dst|relationship|\n",
            "+---+-----+------------+\n",
            "|  9|12641|           1|\n",
            "| 54|27802|           1|\n",
            "| 54|29189|           1|\n",
            "| 54|30398|           1|\n",
            "| 54|31550|           1|\n",
            "| 54|31756|           1|\n",
            "| 54| 4168|           1|\n",
            "| 54|11252|           1|\n",
            "| 54|12499|           1|\n",
            "| 54|14979|           1|\n",
            "| 54|21441|           1|\n",
            "| 54|23448|           1|\n",
            "| 54|23722|           1|\n",
            "| 54|23778|           1|\n",
            "| 54|24564|           1|\n",
            "| 54|26802|           1|\n",
            "| 54|27250|           1|\n",
            "| 54|27088|           1|\n",
            "| 54|10945|           2|\n",
            "| 54| 1984|           2|\n",
            "+---+-----+------------+\n",
            "only showing top 20 rows\n",
            "\n"
          ]
        }
      ]
    },
    {
      "cell_type": "code",
      "metadata": {
        "id": "W1pU20x9zzAU",
        "colab": {
          "base_uri": "https://localhost:8080/"
        },
        "outputId": "4fdf3543-020c-4a2e-b012-90790281dba7"
      },
      "source": [
        "cpdb.vertices.sort(['id'],ascending=True).show()"
      ],
      "execution_count": null,
      "outputs": [
        {
          "output_type": "stream",
          "name": "stdout",
          "text": [
            "+----+-----------------+----------+\n",
            "|  id|     officer_name|num_awards|\n",
            "+----+-----------------+----------+\n",
            "|2397|    Rudolph Booth|        27|\n",
            "|3965|Anthony Carothers|        26|\n",
            "|4102|     Frank Casale|        33|\n",
            "|4987|  Garland Coleman|        90|\n",
            "|5094|      Dean Coltri|        66|\n",
            "|5158|    John Conneely|        41|\n",
            "|5205|    Kevin Connors|        33|\n",
            "|5293|     Carlton Cook|        22|\n",
            "|5568|         Carl Cox|        22|\n",
            "|5893|  Robert Cummings|       106|\n",
            "|6088|      Sean Dailey|        61|\n",
            "|6313|       Eric Davis|        23|\n",
            "|6523|    Michael Deane|        26|\n",
            "|7160|  William Donovan|        22|\n",
            "|7698|      Barry Earls|       180|\n",
            "|8245|      James Farah|        22|\n",
            "|8457|     Vincent Fico|        63|\n",
            "|8762| Theodore Floodas|        50|\n",
            "|8799|    Samuel Flores|        26|\n",
            "|8887|    John Folliard|        77|\n",
            "+----+-----------------+----------+\n",
            "only showing top 20 rows\n",
            "\n"
          ]
        }
      ]
    },
    {
      "cell_type": "code",
      "metadata": {
        "id": "CTcT_BSXz4Nq",
        "colab": {
          "base_uri": "https://localhost:8080/"
        },
        "outputId": "603bfb5e-3bb1-4d41-de8c-ae471411041a"
      },
      "source": [
        "pr_cpdb = cpdb.pageRank(resetProbability=0.15, tol=0.01)\n",
        "#look at the pagerank score for every vertex\n",
        "pr_cpdb.vertices.orderBy('pagerank', ascending=False).show()\n",
        "pr_cpdb.edges.show()"
      ],
      "execution_count": null,
      "outputs": [
        {
          "output_type": "stream",
          "name": "stdout",
          "text": [
            "+-----+----------------+----------+------------------+\n",
            "|   id|    officer_name|num_awards|          pagerank|\n",
            "+-----+----------------+----------+------------------+\n",
            "|18958|  Diane Michaels|        38|1.6717113250776576|\n",
            "|28878|   Joseph Treacy|       129|1.2591088504897885|\n",
            "|31945|    Melvin Ector|        45|1.1892831327106976|\n",
            "|29574|    William Vick|        31|1.1668348957616044|\n",
            "|28275|Frederick Taylor|        78|1.1596556038826997|\n",
            "|32181|    Paul Meagher|        49|1.1363736734977217|\n",
            "|25299|  Daniel Sanchez|        25|1.1340528178229516|\n",
            "|32346|      Mark Smith|        59|1.1320279790416539|\n",
            "|32091|     Skip Katich|        73|1.1137584535741631|\n",
            "|24918|    Gilbert Ruiz|       136|1.1097057212006216|\n",
            "|26150|   Brian Sheehan|        29| 1.106981601850434|\n",
            "|19867|   Kevin Mulcahy|        27| 1.097669911316994|\n",
            "|31191|     Jimmy Woods|       145|1.0968520402734792|\n",
            "|29150|   Akil Upchurch|        73|  1.09564863873333|\n",
            "|22466|  Martin Philbin|        57|  1.09564863873333|\n",
            "|15695|Wilfredo Lapitan|        87|  1.09564863873333|\n",
            "|22827|      Karen Popp|        24|1.0867861358664939|\n",
            "|24457|Joseph Rodriguez|        31|1.0827301933576976|\n",
            "|16545|   Enrique Lopez|        41|1.0739931496085788|\n",
            "|23153|  Joshua Purkiss|       100|1.0725457335887196|\n",
            "+-----+----------------+----------+------------------+\n",
            "only showing top 20 rows\n",
            "\n",
            "+----+-----+------------+--------------------+\n",
            "| src|  dst|relationship|              weight|\n",
            "+----+-----+------------+--------------------+\n",
            "| 200| 6346|           1| 0.00411522633744856|\n",
            "| 200|29882|           1| 0.00411522633744856|\n",
            "| 597|16746|           1|0.006024096385542169|\n",
            "| 597|29782|           1|0.006024096385542169|\n",
            "| 882| 8426|           1|0.041666666666666664|\n",
            "| 927|30211|           1|0.006172839506172839|\n",
            "|1111| 1211|           1|0.034482758620689655|\n",
            "|1278|11767|           1| 0.05555555555555555|\n",
            "|1507|22466|           2|                0.25|\n",
            "|1649|26121|           1|0.005952380952380952|\n",
            "|2269|32206|           2|0.041666666666666664|\n",
            "|2802|25890|           1|0.047619047619047616|\n",
            "|2809|19969|           1|0.013157894736842105|\n",
            "|3026|23036|           1|0.023809523809523808|\n",
            "|3337|31966|           4|0.041666666666666664|\n",
            "|3520|25740|           1|0.027777777777777776|\n",
            "|4226|21364|           2|0.014084507042253521|\n",
            "|5554|16337|           1|              0.0625|\n",
            "|5780|17720|           1|0.041666666666666664|\n",
            "|5913|25279|           4|0.010638297872340425|\n",
            "+----+-----+------------+--------------------+\n",
            "only showing top 20 rows\n",
            "\n"
          ]
        }
      ]
    }
  ]
}